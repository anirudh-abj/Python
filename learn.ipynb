{
 "cells": [
  {
   "cell_type": "markdown",
   "id": "ca4b901a",
   "metadata": {},
   "source": [
    "A complete self contained notebook which explains and implements examples of all significant features of python"
   ]
  },
  {
   "cell_type": "code",
   "execution_count": 2,
   "id": "7a1a5d7a",
   "metadata": {},
   "outputs": [
    {
     "name": "stdout",
     "output_type": "stream",
     "text": [
      "Hello, World!\n"
     ]
    }
   ],
   "source": [
    "print(\"Hello, World!\")"
   ]
  },
  {
   "cell_type": "markdown",
   "id": "23d57f6d",
   "metadata": {},
   "source": [
    "Python is a dynamic and strongly typed language. Everything in python is a object just like java ? https://docs.python.org/3/reference/datamodel.html"
   ]
  },
  {
   "cell_type": "markdown",
   "id": "ec6a1cd0",
   "metadata": {},
   "source": [
    "Variable assignment.\"=\" is a assignment operator .A variable can be reassigned to any object. "
   ]
  },
  {
   "cell_type": "code",
   "execution_count": 3,
   "id": "54571466",
   "metadata": {},
   "outputs": [],
   "source": [
    "a = 1"
   ]
  },
  {
   "cell_type": "code",
   "execution_count": 4,
   "id": "4ca4e82c",
   "metadata": {},
   "outputs": [
    {
     "name": "stdout",
     "output_type": "stream",
     "text": [
      "1  ;  <class 'int'>\n"
     ]
    }
   ],
   "source": [
    "print(a, \" ; \" ,type(a))"
   ]
  },
  {
   "cell_type": "code",
   "execution_count": 5,
   "id": "9f975f1d",
   "metadata": {},
   "outputs": [],
   "source": [
    "a = \"Hello\""
   ]
  },
  {
   "cell_type": "code",
   "execution_count": 6,
   "id": "16408a0f",
   "metadata": {},
   "outputs": [
    {
     "name": "stdout",
     "output_type": "stream",
     "text": [
      "Hello  ;  <class 'str'>\n"
     ]
    }
   ],
   "source": [
    "print(a, \" ; \" ,type(a))"
   ]
  },
  {
   "cell_type": "markdown",
   "id": "bcb80004",
   "metadata": {},
   "source": [
    "Python uses indentation. Wrong indentation can give errors"
   ]
  },
  {
   "cell_type": "markdown",
   "id": "c1afdece",
   "metadata": {},
   "source": [
    "Functions"
   ]
  },
  {
   "cell_type": "code",
   "execution_count": 7,
   "id": "7fbdb210",
   "metadata": {},
   "outputs": [],
   "source": [
    "def add(a : int, b : int) -> int:\n",
    "    return a + b# returns the sum of a and b"
   ]
  },
  {
   "cell_type": "code",
   "execution_count": 8,
   "id": "b7315326",
   "metadata": {},
   "outputs": [
    {
     "data": {
      "text/plain": [
       "3"
      ]
     },
     "execution_count": 8,
     "metadata": {},
     "output_type": "execute_result"
    }
   ],
   "source": [
    "add(1, 2)"
   ]
  },
  {
   "cell_type": "markdown",
   "id": "088be0ff",
   "metadata": {},
   "source": [
    "The returned value can be stored in a variable "
   ]
  },
  {
   "cell_type": "code",
   "execution_count": 9,
   "id": "3356ec88",
   "metadata": {},
   "outputs": [],
   "source": [
    "sum = add(3, 4)"
   ]
  },
  {
   "cell_type": "code",
   "execution_count": 10,
   "id": "767d961d",
   "metadata": {},
   "outputs": [
    {
     "data": {
      "text/plain": [
       "7"
      ]
     },
     "execution_count": 10,
     "metadata": {},
     "output_type": "execute_result"
    }
   ],
   "source": [
    "sum"
   ]
  },
  {
   "cell_type": "markdown",
   "id": "cc6245f7",
   "metadata": {},
   "source": [
    "Here python implicitly returns None object"
   ]
  },
  {
   "cell_type": "code",
   "execution_count": 11,
   "id": "3af221b8",
   "metadata": {},
   "outputs": [],
   "source": [
    "def greet(name :str) -> None:\n",
    "    print(f\"Hello, {name}\")"
   ]
  },
  {
   "cell_type": "code",
   "execution_count": 12,
   "id": "90410a5e",
   "metadata": {},
   "outputs": [
    {
     "name": "stdout",
     "output_type": "stream",
     "text": [
      "Hello, Anirudh\n"
     ]
    }
   ],
   "source": [
    "greet(\"Anirudh\")"
   ]
  },
  {
   "cell_type": "code",
   "execution_count": 13,
   "id": "dac54198",
   "metadata": {},
   "outputs": [
    {
     "name": "stdout",
     "output_type": "stream",
     "text": [
      "Hello, Anirudh\n"
     ]
    }
   ],
   "source": [
    "null = greet(\"Anirudh\")"
   ]
  },
  {
   "cell_type": "code",
   "execution_count": 14,
   "id": "5c2fd9d1",
   "metadata": {},
   "outputs": [
    {
     "name": "stdout",
     "output_type": "stream",
     "text": [
      "None\n"
     ]
    }
   ],
   "source": [
    "print(null)"
   ]
  },
  {
   "cell_type": "code",
   "execution_count": 15,
   "id": "ae40ae22",
   "metadata": {},
   "outputs": [],
   "source": [
    "#this is a comment in python. these are not considered while interpretations. They can be only single line"
   ]
  },
  {
   "cell_type": "markdown",
   "id": "d8ef51f2",
   "metadata": {},
   "source": [
    "Python does not support multi line comments ??"
   ]
  },
  {
   "cell_type": "markdown",
   "id": "6ecfd2a3",
   "metadata": {},
   "source": [
    "Functions can be described using doc strings.(https://peps.python.org/pep-0257/)"
   ]
  },
  {
   "cell_type": "code",
   "execution_count": 16,
   "id": "068a0be2",
   "metadata": {},
   "outputs": [],
   "source": [
    "def mul(a : int, b : int) -> int:\n",
    "    \"\"\"\n",
    "    Takes in two integers and returns their product\n",
    "    \"\"\"\n",
    "    return a * b"
   ]
  },
  {
   "cell_type": "code",
   "execution_count": 17,
   "id": "f4dc8284",
   "metadata": {},
   "outputs": [
    {
     "data": {
      "text/plain": [
       "12"
      ]
     },
     "execution_count": 17,
     "metadata": {},
     "output_type": "execute_result"
    }
   ],
   "source": [
    "mul(3, 4)"
   ]
  },
  {
   "cell_type": "code",
   "execution_count": 18,
   "id": "d7e1ab75",
   "metadata": {},
   "outputs": [
    {
     "data": {
      "text/plain": [
       "'\\n    Takes in two integers and returns their product\\n    '"
      ]
     },
     "execution_count": 18,
     "metadata": {},
     "output_type": "execute_result"
    }
   ],
   "source": [
    "mul.__doc__#returns the doc string of the function"
   ]
  },
  {
   "cell_type": "markdown",
   "id": "a8b243a4",
   "metadata": {},
   "source": [
    "Python has many number types\n",
    "(1) Integere (int)\n",
    "(2) Floating point numbers (float)\n",
    "(3) Complex\n",
    "(4) Fraction(fractions.Fraction)\n",
    "(5) Decimal(decimal.Decimal)\n",
    "(6) Binary(bin())\n",
    "(7) Octal (oct())\n",
    "(8) Hexadecimal (hect())"
   ]
  },
  {
   "cell_type": "code",
   "execution_count": 19,
   "id": "dc96c879",
   "metadata": {},
   "outputs": [],
   "source": [
    "a : int = 1"
   ]
  },
  {
   "cell_type": "code",
   "execution_count": 20,
   "id": "513cb938",
   "metadata": {},
   "outputs": [],
   "source": [
    "b : int = 2"
   ]
  },
  {
   "cell_type": "markdown",
   "id": "2b649881",
   "metadata": {},
   "source": [
    "Integers in python have arbitray precision. They are only limited by the host system"
   ]
  },
  {
   "cell_type": "code",
   "execution_count": null,
   "id": "30ad980d",
   "metadata": {},
   "outputs": [],
   "source": []
  },
  {
   "cell_type": "code",
   "execution_count": 21,
   "id": "aa22c25f",
   "metadata": {},
   "outputs": [
    {
     "data": {
      "text/plain": [
       "3"
      ]
     },
     "execution_count": 21,
     "metadata": {},
     "output_type": "execute_result"
    }
   ],
   "source": [
    "a + b"
   ]
  },
  {
   "cell_type": "code",
   "execution_count": 22,
   "id": "999fd3d7",
   "metadata": {},
   "outputs": [
    {
     "data": {
      "text/plain": [
       "-1"
      ]
     },
     "execution_count": 22,
     "metadata": {},
     "output_type": "execute_result"
    }
   ],
   "source": [
    "a - b"
   ]
  },
  {
   "cell_type": "code",
   "execution_count": 23,
   "id": "a4184e4f",
   "metadata": {},
   "outputs": [
    {
     "data": {
      "text/plain": [
       "2"
      ]
     },
     "execution_count": 23,
     "metadata": {},
     "output_type": "execute_result"
    }
   ],
   "source": [
    "a * b"
   ]
  },
  {
   "cell_type": "markdown",
   "id": "aafa7ae5",
   "metadata": {},
   "source": [
    "division always returns a float"
   ]
  },
  {
   "cell_type": "code",
   "execution_count": 24,
   "id": "3a44f0ed",
   "metadata": {},
   "outputs": [
    {
     "data": {
      "text/plain": [
       "0.5"
      ]
     },
     "execution_count": 24,
     "metadata": {},
     "output_type": "execute_result"
    }
   ],
   "source": [
    "a / b"
   ]
  },
  {
   "cell_type": "code",
   "execution_count": 25,
   "id": "dc521633",
   "metadata": {},
   "outputs": [
    {
     "data": {
      "text/plain": [
       "0"
      ]
     },
     "execution_count": 25,
     "metadata": {},
     "output_type": "execute_result"
    }
   ],
   "source": [
    "a // b"
   ]
  },
  {
   "cell_type": "code",
   "execution_count": 26,
   "id": "e896ba4e",
   "metadata": {},
   "outputs": [
    {
     "data": {
      "text/plain": [
       "1"
      ]
     },
     "execution_count": 26,
     "metadata": {},
     "output_type": "execute_result"
    }
   ],
   "source": [
    "a % b"
   ]
  },
  {
   "cell_type": "markdown",
   "id": "6e939a85",
   "metadata": {},
   "source": [
    "Floats are implemented using \"double\" in C"
   ]
  },
  {
   "cell_type": "code",
   "execution_count": 27,
   "id": "99d2d8ae",
   "metadata": {},
   "outputs": [],
   "source": [
    "pi : float = 3.14"
   ]
  },
  {
   "cell_type": "markdown",
   "id": "c647ad8e",
   "metadata": {},
   "source": [
    "When a lower number type is in a arithmetic op with higher number type then the lower number type is convert to higher number type automatically by python\n",
    "\n",
    "int + float => float + float "
   ]
  },
  {
   "cell_type": "code",
   "execution_count": 28,
   "id": "698f2a00",
   "metadata": {},
   "outputs": [
    {
     "data": {
      "text/plain": [
       "4.140000000000001"
      ]
     },
     "execution_count": 28,
     "metadata": {},
     "output_type": "execute_result"
    }
   ],
   "source": [
    "a + pi"
   ]
  },
  {
   "cell_type": "markdown",
   "id": "d8c9f31a",
   "metadata": {},
   "source": [
    "Converting a int to float and vice versa"
   ]
  },
  {
   "cell_type": "code",
   "execution_count": 29,
   "id": "e89d39e5",
   "metadata": {},
   "outputs": [
    {
     "data": {
      "text/plain": [
       "3"
      ]
     },
     "execution_count": 29,
     "metadata": {},
     "output_type": "execute_result"
    }
   ],
   "source": [
    "int(pi)"
   ]
  },
  {
   "cell_type": "code",
   "execution_count": 30,
   "id": "4df2f124",
   "metadata": {},
   "outputs": [
    {
     "data": {
      "text/plain": [
       "1.0"
      ]
     },
     "execution_count": 30,
     "metadata": {},
     "output_type": "execute_result"
    }
   ],
   "source": [
    "float(a)"
   ]
  },
  {
   "cell_type": "markdown",
   "id": "56b95e6f",
   "metadata": {},
   "source": [
    "bool is a subtype of int"
   ]
  },
  {
   "cell_type": "code",
   "execution_count": 31,
   "id": "762f57b4",
   "metadata": {},
   "outputs": [],
   "source": [
    "b1 : bool = True"
   ]
  },
  {
   "cell_type": "code",
   "execution_count": 32,
   "id": "20a3e0c2",
   "metadata": {},
   "outputs": [],
   "source": [
    "b2 : bool = False"
   ]
  },
  {
   "cell_type": "markdown",
   "id": "444ace87",
   "metadata": {},
   "source": [
    "Boolean operator and, or, not"
   ]
  },
  {
   "cell_type": "code",
   "execution_count": 33,
   "id": "8b64b74f",
   "metadata": {},
   "outputs": [
    {
     "data": {
      "text/plain": [
       "False"
      ]
     },
     "execution_count": 33,
     "metadata": {},
     "output_type": "execute_result"
    }
   ],
   "source": [
    "b1 and b2"
   ]
  },
  {
   "cell_type": "code",
   "execution_count": 34,
   "id": "9820db30",
   "metadata": {},
   "outputs": [
    {
     "data": {
      "text/plain": [
       "True"
      ]
     },
     "execution_count": 34,
     "metadata": {},
     "output_type": "execute_result"
    }
   ],
   "source": [
    "b1 or b2"
   ]
  },
  {
   "cell_type": "code",
   "execution_count": 35,
   "id": "331fbb6b",
   "metadata": {},
   "outputs": [
    {
     "data": {
      "text/plain": [
       "False"
      ]
     },
     "execution_count": 35,
     "metadata": {},
     "output_type": "execute_result"
    }
   ],
   "source": [
    "not b1"
   ]
  },
  {
   "cell_type": "markdown",
   "id": "8c6258e6",
   "metadata": {},
   "source": [
    "Comparison Operators"
   ]
  },
  {
   "cell_type": "markdown",
   "id": "06730d35",
   "metadata": {},
   "source": [
    "They all have the same priority (which is higher than that of Boolean operations, but lower than that of arithmetic or bitwise operations)."
   ]
  },
  {
   "cell_type": "code",
   "execution_count": 36,
   "id": "77eeb44f",
   "metadata": {},
   "outputs": [
    {
     "data": {
      "text/plain": [
       "False"
      ]
     },
     "execution_count": 36,
     "metadata": {},
     "output_type": "execute_result"
    }
   ],
   "source": [
    "1 > 2"
   ]
  },
  {
   "cell_type": "code",
   "execution_count": 37,
   "id": "8c77dd23",
   "metadata": {},
   "outputs": [
    {
     "data": {
      "text/plain": [
       "True"
      ]
     },
     "execution_count": 37,
     "metadata": {},
     "output_type": "execute_result"
    }
   ],
   "source": [
    "1 < 2"
   ]
  },
  {
   "cell_type": "code",
   "execution_count": 38,
   "id": "b119bf80",
   "metadata": {},
   "outputs": [
    {
     "data": {
      "text/plain": [
       "True"
      ]
     },
     "execution_count": 38,
     "metadata": {},
     "output_type": "execute_result"
    }
   ],
   "source": [
    "1 == 1"
   ]
  },
  {
   "cell_type": "code",
   "execution_count": 39,
   "id": "32f65324",
   "metadata": {},
   "outputs": [
    {
     "data": {
      "text/plain": [
       "False"
      ]
     },
     "execution_count": 39,
     "metadata": {},
     "output_type": "execute_result"
    }
   ],
   "source": [
    "1 != 1"
   ]
  },
  {
   "cell_type": "code",
   "execution_count": 40,
   "id": "05a3cc44",
   "metadata": {},
   "outputs": [
    {
     "data": {
      "text/plain": [
       "False"
      ]
     },
     "execution_count": 40,
     "metadata": {},
     "output_type": "execute_result"
    }
   ],
   "source": [
    "1 >= 2"
   ]
  },
  {
   "cell_type": "code",
   "execution_count": 41,
   "id": "b9d1c58e",
   "metadata": {},
   "outputs": [
    {
     "data": {
      "text/plain": [
       "False"
      ]
     },
     "execution_count": 41,
     "metadata": {},
     "output_type": "execute_result"
    }
   ],
   "source": [
    "2 <= 1"
   ]
  },
  {
   "cell_type": "code",
   "execution_count": 42,
   "id": "ce2ccc6a",
   "metadata": {},
   "outputs": [
    {
     "data": {
      "text/plain": [
       "True"
      ]
     },
     "execution_count": 42,
     "metadata": {},
     "output_type": "execute_result"
    }
   ],
   "source": [
    "type(1) is int"
   ]
  },
  {
   "cell_type": "code",
   "execution_count": 43,
   "id": "903ac8ea",
   "metadata": {},
   "outputs": [
    {
     "data": {
      "text/plain": [
       "True"
      ]
     },
     "execution_count": 43,
     "metadata": {},
     "output_type": "execute_result"
    }
   ],
   "source": [
    "type(1) is not str"
   ]
  },
  {
   "cell_type": "code",
   "execution_count": 44,
   "id": "f59498a1",
   "metadata": {},
   "outputs": [
    {
     "data": {
      "text/plain": [
       "True"
      ]
     },
     "execution_count": 44,
     "metadata": {},
     "output_type": "execute_result"
    }
   ],
   "source": [
    "1 in [1, 2, 3]"
   ]
  },
  {
   "cell_type": "code",
   "execution_count": 45,
   "id": "021ef2fa",
   "metadata": {},
   "outputs": [
    {
     "data": {
      "text/plain": [
       "False"
      ]
     },
     "execution_count": 45,
     "metadata": {},
     "output_type": "execute_result"
    }
   ],
   "source": [
    "1 not in [1, 2, 3]"
   ]
  },
  {
   "cell_type": "markdown",
   "id": "7f9e6e30",
   "metadata": {},
   "source": [
    "Control Flow"
   ]
  },
  {
   "cell_type": "code",
   "execution_count": 46,
   "id": "4404ecb6",
   "metadata": {},
   "outputs": [],
   "source": [
    "num : int = 5"
   ]
  },
  {
   "cell_type": "code",
   "execution_count": 47,
   "id": "bb5c8e04",
   "metadata": {},
   "outputs": [
    {
     "name": "stdout",
     "output_type": "stream",
     "text": [
      "Odd\n"
     ]
    }
   ],
   "source": [
    "if num % 2 == 0:\n",
    "    print(\"Even\")\n",
    "\n",
    "else:\n",
    "    print(\"Odd\")"
   ]
  },
  {
   "cell_type": "markdown",
   "id": "6117212a",
   "metadata": {},
   "source": [
    "Python versions 3.9 and below don't have a feature like switch statement. Python versions 3.9 and above have something called \"structural pattern matching\". They are implemented using the macth statement"
   ]
  },
  {
   "cell_type": "code",
   "execution_count": 48,
   "id": "4900b86f",
   "metadata": {},
   "outputs": [
    {
     "data": {
      "text/plain": [
       "str"
      ]
     },
     "execution_count": 48,
     "metadata": {},
     "output_type": "execute_result"
    }
   ],
   "source": [
    "type(\"Hello, World\")"
   ]
  },
  {
   "cell_type": "markdown",
   "id": "43adb394",
   "metadata": {},
   "source": [
    "Strings : a collection of immutable unicode points"
   ]
  },
  {
   "cell_type": "code",
   "execution_count": 49,
   "id": "4e28c4d2",
   "metadata": {},
   "outputs": [],
   "source": [
    "name : str = \"Anirudh\""
   ]
  },
  {
   "cell_type": "markdown",
   "id": "c02b9e38",
   "metadata": {},
   "source": [
    "Both '' and \"\" can be used to declare strings"
   ]
  },
  {
   "cell_type": "code",
   "execution_count": 50,
   "id": "50272b9f",
   "metadata": {},
   "outputs": [],
   "source": [
    "greeting : str = 'Hello, '"
   ]
  },
  {
   "cell_type": "markdown",
   "id": "aa3c5418",
   "metadata": {},
   "source": [
    "Operations which appear to change the string usually return a new strings with required changes"
   ]
  },
  {
   "cell_type": "code",
   "execution_count": 51,
   "id": "4d652463",
   "metadata": {},
   "outputs": [
    {
     "name": "stdout",
     "output_type": "stream",
     "text": [
      "Hello, Anirudh\n"
     ]
    }
   ],
   "source": [
    "greeting += name\n",
    "print(greeting)"
   ]
  },
  {
   "cell_type": "markdown",
   "id": "57bd8933",
   "metadata": {},
   "source": [
    "If you want  to use \" or  ' as part of a string you have to escape character \"\\\" before them to not confuse the python interpreter"
   ]
  },
  {
   "cell_type": "code",
   "execution_count": 52,
   "id": "94b76558",
   "metadata": {},
   "outputs": [
    {
     "name": "stdout",
     "output_type": "stream",
     "text": [
      "Hello this is an \"AI\" \n"
     ]
    }
   ],
   "source": [
    "print(\"Hello this is an \\\"AI\\\" \")"
   ]
  },
  {
   "cell_type": "markdown",
   "id": "4f42f3c4",
   "metadata": {},
   "source": [
    "Other escape sequences \n",
    "(1) \\n - newline\n",
    "(2) \\t - tabspace\n",
    "(3) \\\\ - to print \\"
   ]
  },
  {
   "cell_type": "code",
   "execution_count": 53,
   "id": "2d1a681b",
   "metadata": {},
   "outputs": [
    {
     "name": "stdout",
     "output_type": "stream",
     "text": [
      "Hello this is human \n",
      " But this maybe an \t AI \\\n"
     ]
    }
   ],
   "source": [
    "print(\"Hello this is human \\n But this maybe an \\t AI \\\\\")"
   ]
  },
  {
   "cell_type": "code",
   "execution_count": 54,
   "id": "176b3e23",
   "metadata": {},
   "outputs": [
    {
     "name": "stdout",
     "output_type": "stream",
     "text": [
      "\n",
      "Multi\n",
      "line\n",
      "string\n",
      "\n",
      "\n"
     ]
    }
   ],
   "source": [
    "print('''\n",
    "Multi\n",
    "line\n",
    "string\n",
    "\n",
    "''')"
   ]
  },
  {
   "cell_type": "code",
   "execution_count": 55,
   "id": "f660fe31",
   "metadata": {},
   "outputs": [
    {
     "name": "stdout",
     "output_type": "stream",
     "text": [
      "\n",
      "Multi \n",
      "Line \n",
      "Stirng\n",
      "\n"
     ]
    }
   ],
   "source": [
    "print(\"\"\"\n",
    "Multi \n",
    "Line \n",
    "Stirng\n",
    "\"\"\")"
   ]
  },
  {
   "cell_type": "markdown",
   "id": "dfabc0df",
   "metadata": {},
   "source": [
    "String concatenation (combining two strings). It is not efficient ???"
   ]
  },
  {
   "cell_type": "code",
   "execution_count": 56,
   "id": "e8e02e84",
   "metadata": {},
   "outputs": [
    {
     "data": {
      "text/plain": [
       "'Hello World'"
      ]
     },
     "execution_count": 56,
     "metadata": {},
     "output_type": "execute_result"
    }
   ],
   "source": [
    "\"Hello\" + \" World\""
   ]
  },
  {
   "cell_type": "markdown",
   "id": "089d3fff",
   "metadata": {},
   "source": [
    "Combining elements of a any iterable to a string"
   ]
  },
  {
   "cell_type": "code",
   "execution_count": 57,
   "id": "11490d24",
   "metadata": {},
   "outputs": [],
   "source": [
    "lst = [\"Hello\", \"World\", \"Earth\"]"
   ]
  },
  {
   "cell_type": "code",
   "execution_count": 58,
   "id": "68d4649c",
   "metadata": {},
   "outputs": [
    {
     "data": {
      "text/plain": [
       "'HelloWorldEarth'"
      ]
     },
     "execution_count": 58,
     "metadata": {},
     "output_type": "execute_result"
    }
   ],
   "source": [
    "\"\".join(lst)"
   ]
  },
  {
   "cell_type": "markdown",
   "id": "27240bea",
   "metadata": {},
   "source": [
    "You can describe the seperator element in the \"\""
   ]
  },
  {
   "cell_type": "code",
   "execution_count": 59,
   "id": "1eaa7a6d",
   "metadata": {},
   "outputs": [
    {
     "data": {
      "text/plain": [
       "'Hello ; World ; Earth'"
      ]
     },
     "execution_count": 59,
     "metadata": {},
     "output_type": "execute_result"
    }
   ],
   "source": [
    "\" ; \".join(lst)"
   ]
  },
  {
   "cell_type": "markdown",
   "id": "de595fe0",
   "metadata": {},
   "source": [
    "Strings can be indexed just like lists"
   ]
  },
  {
   "cell_type": "code",
   "execution_count": 60,
   "id": "47a4ae4e",
   "metadata": {},
   "outputs": [],
   "source": [
    "a = \"Hello\""
   ]
  },
  {
   "cell_type": "code",
   "execution_count": 61,
   "id": "d69ef8f6",
   "metadata": {},
   "outputs": [
    {
     "data": {
      "text/plain": [
       "'H'"
      ]
     },
     "execution_count": 61,
     "metadata": {},
     "output_type": "execute_result"
    }
   ],
   "source": [
    "a[0]"
   ]
  },
  {
   "cell_type": "code",
   "execution_count": 62,
   "id": "f2c716ea",
   "metadata": {},
   "outputs": [
    {
     "data": {
      "text/plain": [
       "'o'"
      ]
     },
     "execution_count": 62,
     "metadata": {},
     "output_type": "execute_result"
    }
   ],
   "source": [
    "a[-1]"
   ]
  },
  {
   "cell_type": "code",
   "execution_count": 63,
   "id": "e863f358",
   "metadata": {},
   "outputs": [
    {
     "data": {
      "text/plain": [
       "'l'"
      ]
     },
     "execution_count": 63,
     "metadata": {},
     "output_type": "execute_result"
    }
   ],
   "source": [
    "a[2]"
   ]
  },
  {
   "cell_type": "markdown",
   "id": "07e0f6c9",
   "metadata": {},
   "source": [
    "There is no seperate character or rune type in python. Indexing produces a string"
   ]
  },
  {
   "cell_type": "code",
   "execution_count": 64,
   "id": "b7ef516b",
   "metadata": {},
   "outputs": [
    {
     "data": {
      "text/plain": [
       "str"
      ]
     },
     "execution_count": 64,
     "metadata": {},
     "output_type": "execute_result"
    }
   ],
   "source": [
    "type(a[0])"
   ]
  },
  {
   "cell_type": "markdown",
   "id": "723eff00",
   "metadata": {},
   "source": [
    "String slicing"
   ]
  },
  {
   "cell_type": "code",
   "execution_count": 65,
   "id": "9e10a7ae",
   "metadata": {},
   "outputs": [
    {
     "data": {
      "text/plain": [
       "'Hello'"
      ]
     },
     "execution_count": 65,
     "metadata": {},
     "output_type": "execute_result"
    }
   ],
   "source": [
    "a[:]#all the string"
   ]
  },
  {
   "cell_type": "code",
   "execution_count": 66,
   "id": "00caa278",
   "metadata": {},
   "outputs": [
    {
     "data": {
      "text/plain": [
       "'Hel'"
      ]
     },
     "execution_count": 66,
     "metadata": {},
     "output_type": "execute_result"
    }
   ],
   "source": [
    "a[:3]#from the start till the 3rd character(3rd character is not included)"
   ]
  },
  {
   "cell_type": "code",
   "execution_count": 67,
   "id": "41c18a2a",
   "metadata": {},
   "outputs": [
    {
     "data": {
      "text/plain": [
       "'llo'"
      ]
     },
     "execution_count": 67,
     "metadata": {},
     "output_type": "execute_result"
    }
   ],
   "source": [
    "a[2:]#from the second character till the end(second charcater is included)"
   ]
  },
  {
   "cell_type": "markdown",
   "id": "8851e811",
   "metadata": {},
   "source": [
    "[2, 4)"
   ]
  },
  {
   "cell_type": "code",
   "execution_count": 68,
   "id": "f82e84f3",
   "metadata": {},
   "outputs": [
    {
     "data": {
      "text/plain": [
       "'ll'"
      ]
     },
     "execution_count": 68,
     "metadata": {},
     "output_type": "execute_result"
    }
   ],
   "source": [
    "a[2:4]"
   ]
  },
  {
   "cell_type": "markdown",
   "id": "8e4d592a",
   "metadata": {},
   "source": [
    "The third element is the step. It tells how many characters to skip after using the current character"
   ]
  },
  {
   "cell_type": "code",
   "execution_count": 69,
   "id": "87a84260",
   "metadata": {},
   "outputs": [
    {
     "data": {
      "text/plain": [
       "'Hlo'"
      ]
     },
     "execution_count": 69,
     "metadata": {},
     "output_type": "execute_result"
    }
   ],
   "source": [
    "a[::2]"
   ]
  },
  {
   "cell_type": "markdown",
   "id": "7da44223",
   "metadata": {},
   "source": [
    "The step element can be used to reverse the string"
   ]
  },
  {
   "cell_type": "code",
   "execution_count": 70,
   "id": "f3bde1cd",
   "metadata": {},
   "outputs": [
    {
     "data": {
      "text/plain": [
       "'olleH'"
      ]
     },
     "execution_count": 70,
     "metadata": {},
     "output_type": "execute_result"
    }
   ],
   "source": [
    "a[::-1]"
   ]
  },
  {
   "cell_type": "markdown",
   "id": "41bfe071",
   "metadata": {},
   "source": [
    "To split the string based on a delimeter"
   ]
  },
  {
   "cell_type": "code",
   "execution_count": 71,
   "id": "673898fe",
   "metadata": {},
   "outputs": [],
   "source": [
    "a = \"Hello, World\""
   ]
  },
  {
   "cell_type": "markdown",
   "id": "8c321f93",
   "metadata": {},
   "source": [
    "string.split() returns a list of strings"
   ]
  },
  {
   "cell_type": "code",
   "execution_count": 72,
   "id": "e5f152f3",
   "metadata": {},
   "outputs": [
    {
     "data": {
      "text/plain": [
       "['Hello', ' World']"
      ]
     },
     "execution_count": 72,
     "metadata": {},
     "output_type": "execute_result"
    }
   ],
   "source": [
    "a.split(\",\")"
   ]
  },
  {
   "cell_type": "code",
   "execution_count": 73,
   "id": "d19693f9",
   "metadata": {},
   "outputs": [
    {
     "data": {
      "text/plain": [
       "['Hello,', 'World']"
      ]
     },
     "execution_count": 73,
     "metadata": {},
     "output_type": "execute_result"
    }
   ],
   "source": [
    "a.split()#by default the split is done over a space"
   ]
  },
  {
   "cell_type": "markdown",
   "id": "d547d3c8",
   "metadata": {},
   "source": [
    "Strings support all common sequence operations.(https://docs.python.org/3/library/stdtypes.html#common-sequence-operations)"
   ]
  },
  {
   "cell_type": "markdown",
   "id": "2829b60d",
   "metadata": {},
   "source": [
    "That means we can iterate over a string using the for loop"
   ]
  },
  {
   "cell_type": "markdown",
   "id": "dc457cff",
   "metadata": {},
   "source": [
    "looping for non english characters ????"
   ]
  },
  {
   "cell_type": "code",
   "execution_count": 74,
   "id": "08c3a367",
   "metadata": {},
   "outputs": [
    {
     "name": "stdout",
     "output_type": "stream",
     "text": [
      "H e l l o ,   W o r l d "
     ]
    }
   ],
   "source": [
    "for i in a:\n",
    "    print(i, end=\" \")#by default print(i, end=\"\\n\")"
   ]
  },
  {
   "cell_type": "markdown",
   "id": "d61518c3",
   "metadata": {},
   "source": [
    "To access the element's position and the element"
   ]
  },
  {
   "cell_type": "code",
   "execution_count": 75,
   "id": "da80d87a",
   "metadata": {},
   "outputs": [
    {
     "name": "stdout",
     "output_type": "stream",
     "text": [
      "0 H\n",
      "1 e\n",
      "2 l\n",
      "3 l\n",
      "4 o\n",
      "5 ,\n",
      "6  \n",
      "7 W\n",
      "8 o\n",
      "9 r\n",
      "10 l\n",
      "11 d\n"
     ]
    }
   ],
   "source": [
    "for index, char in enumerate(a):\n",
    "    print(index, char)"
   ]
  },
  {
   "cell_type": "code",
   "execution_count": 76,
   "id": "949af116",
   "metadata": {},
   "outputs": [],
   "source": [
    "a = \"hello, world!\""
   ]
  },
  {
   "cell_type": "code",
   "execution_count": 77,
   "id": "36b7bdec",
   "metadata": {},
   "outputs": [
    {
     "data": {
      "text/plain": [
       "'Hello, World!'"
      ]
     },
     "execution_count": 77,
     "metadata": {},
     "output_type": "execute_result"
    }
   ],
   "source": [
    "a.title()#capitalizes the starting letters of words in the string"
   ]
  },
  {
   "cell_type": "code",
   "execution_count": 78,
   "id": "fa619781",
   "metadata": {},
   "outputs": [
    {
     "data": {
      "text/plain": [
       "'HELLO, WORLD!'"
      ]
     },
     "execution_count": 78,
     "metadata": {},
     "output_type": "execute_result"
    }
   ],
   "source": [
    "a.upper()#converts all letters to upper case"
   ]
  },
  {
   "cell_type": "code",
   "execution_count": 79,
   "id": "83352b64",
   "metadata": {},
   "outputs": [
    {
     "data": {
      "text/plain": [
       "'hello, world!'"
      ]
     },
     "execution_count": 79,
     "metadata": {},
     "output_type": "execute_result"
    }
   ],
   "source": [
    "a.lower()#converts all letters to lower case"
   ]
  },
  {
   "cell_type": "markdown",
   "id": "d6cf382b",
   "metadata": {},
   "source": [
    "To check is a string has a suffix"
   ]
  },
  {
   "cell_type": "code",
   "execution_count": 80,
   "id": "756a1616",
   "metadata": {},
   "outputs": [
    {
     "data": {
      "text/plain": [
       "False"
      ]
     },
     "execution_count": 80,
     "metadata": {},
     "output_type": "execute_result"
    }
   ],
   "source": [
    "a.endswith('orld')"
   ]
  },
  {
   "cell_type": "code",
   "execution_count": 81,
   "id": "61a4fb4c",
   "metadata": {},
   "outputs": [
    {
     "data": {
      "text/plain": [
       "True"
      ]
     },
     "execution_count": 81,
     "metadata": {},
     "output_type": "execute_result"
    }
   ],
   "source": [
    "a.endswith('orld!')"
   ]
  },
  {
   "cell_type": "code",
   "execution_count": 82,
   "id": "044d5e1f",
   "metadata": {},
   "outputs": [],
   "source": [
    "a = \"   hello, world   \""
   ]
  },
  {
   "cell_type": "code",
   "execution_count": 83,
   "id": "9b794710",
   "metadata": {},
   "outputs": [
    {
     "data": {
      "text/plain": [
       "'hello, world'"
      ]
     },
     "execution_count": 83,
     "metadata": {},
     "output_type": "execute_result"
    }
   ],
   "source": [
    "a.strip()#removes spaces from the start and the end"
   ]
  },
  {
   "cell_type": "code",
   "execution_count": 84,
   "id": "df8fb75e",
   "metadata": {},
   "outputs": [
    {
     "data": {
      "text/plain": [
       "'   hello, world'"
      ]
     },
     "execution_count": 84,
     "metadata": {},
     "output_type": "execute_result"
    }
   ],
   "source": [
    "a.rstrip()#removes spaces only on the right side"
   ]
  },
  {
   "cell_type": "code",
   "execution_count": 85,
   "id": "d9cdb574",
   "metadata": {},
   "outputs": [
    {
     "data": {
      "text/plain": [
       "'hello, world   '"
      ]
     },
     "execution_count": 85,
     "metadata": {},
     "output_type": "execute_result"
    }
   ],
   "source": [
    "a.lstrip()#removes spaces only on the left side"
   ]
  },
  {
   "cell_type": "markdown",
   "id": "6f6cec10",
   "metadata": {},
   "source": [
    "string.strip(str)????"
   ]
  },
  {
   "cell_type": "code",
   "execution_count": 86,
   "id": "8f299fa0",
   "metadata": {},
   "outputs": [
    {
     "data": {
      "text/plain": [
       "'   hello, universe   '"
      ]
     },
     "execution_count": 86,
     "metadata": {},
     "output_type": "execute_result"
    }
   ],
   "source": [
    "a.replace(\"world\", \"universe\")"
   ]
  },
  {
   "cell_type": "markdown",
   "id": "d45d1370",
   "metadata": {},
   "source": [
    "Lists = a dynamic size and mutable linear data structure"
   ]
  },
  {
   "cell_type": "code",
   "execution_count": 87,
   "id": "db1d7f37",
   "metadata": {},
   "outputs": [],
   "source": [
    "lst = [1, 'a', True]"
   ]
  },
  {
   "cell_type": "code",
   "execution_count": 88,
   "id": "8598d1c6",
   "metadata": {},
   "outputs": [
    {
     "data": {
      "text/plain": [
       "1"
      ]
     },
     "execution_count": 88,
     "metadata": {},
     "output_type": "execute_result"
    }
   ],
   "source": [
    "lst[0]"
   ]
  },
  {
   "cell_type": "code",
   "execution_count": 89,
   "id": "68bd5266",
   "metadata": {},
   "outputs": [
    {
     "data": {
      "text/plain": [
       "True"
      ]
     },
     "execution_count": 89,
     "metadata": {},
     "output_type": "execute_result"
    }
   ],
   "source": [
    "lst[-1]"
   ]
  },
  {
   "cell_type": "code",
   "execution_count": 90,
   "id": "ccb8a937",
   "metadata": {},
   "outputs": [
    {
     "data": {
      "text/plain": [
       "[1]"
      ]
     },
     "execution_count": 90,
     "metadata": {},
     "output_type": "execute_result"
    }
   ],
   "source": [
    "lst[:1]"
   ]
  },
  {
   "cell_type": "code",
   "execution_count": 91,
   "id": "09cd9508",
   "metadata": {},
   "outputs": [
    {
     "data": {
      "text/plain": [
       "['a', True]"
      ]
     },
     "execution_count": 91,
     "metadata": {},
     "output_type": "execute_result"
    }
   ],
   "source": [
    "lst[1:]"
   ]
  },
  {
   "cell_type": "code",
   "execution_count": 92,
   "id": "200539e6",
   "metadata": {},
   "outputs": [
    {
     "data": {
      "text/plain": [
       "[1, 'a', True]"
      ]
     },
     "execution_count": 92,
     "metadata": {},
     "output_type": "execute_result"
    }
   ],
   "source": [
    "lst[:]"
   ]
  },
  {
   "cell_type": "code",
   "execution_count": 93,
   "id": "be071d75",
   "metadata": {},
   "outputs": [
    {
     "data": {
      "text/plain": [
       "[True, 'a', 1]"
      ]
     },
     "execution_count": 93,
     "metadata": {},
     "output_type": "execute_result"
    }
   ],
   "source": [
    "lst[::-1]"
   ]
  },
  {
   "cell_type": "code",
   "execution_count": 94,
   "id": "240cccf2",
   "metadata": {},
   "outputs": [
    {
     "data": {
      "text/plain": [
       "[1]"
      ]
     },
     "execution_count": 94,
     "metadata": {},
     "output_type": "execute_result"
    }
   ],
   "source": [
    "lst[:2:2]"
   ]
  },
  {
   "cell_type": "code",
   "execution_count": 95,
   "id": "07e93384",
   "metadata": {},
   "outputs": [],
   "source": [
    "lst.reverse()# reverses the list in place"
   ]
  },
  {
   "cell_type": "code",
   "execution_count": 96,
   "id": "b190c3f5",
   "metadata": {},
   "outputs": [],
   "source": [
    "lst1 = [3, 2, 1]"
   ]
  },
  {
   "cell_type": "code",
   "execution_count": 97,
   "id": "09102b97",
   "metadata": {},
   "outputs": [],
   "source": [
    "lst1.sort()#can be used only on homogeneous lists(lists with all elements of same type)"
   ]
  },
  {
   "cell_type": "code",
   "execution_count": 98,
   "id": "9ead8301",
   "metadata": {},
   "outputs": [
    {
     "data": {
      "text/plain": [
       "[1, 2, 3]"
      ]
     },
     "execution_count": 98,
     "metadata": {},
     "output_type": "execute_result"
    }
   ],
   "source": [
    "lst1"
   ]
  },
  {
   "cell_type": "markdown",
   "id": "c61f1e8a",
   "metadata": {},
   "source": [
    "List Declarations"
   ]
  },
  {
   "cell_type": "code",
   "execution_count": 99,
   "id": "e4549562",
   "metadata": {},
   "outputs": [],
   "source": [
    "lst2 = []"
   ]
  },
  {
   "cell_type": "code",
   "execution_count": 100,
   "id": "c1faa6e0",
   "metadata": {},
   "outputs": [],
   "source": [
    "lst3 = list()"
   ]
  },
  {
   "cell_type": "code",
   "execution_count": 101,
   "id": "0a419900",
   "metadata": {},
   "outputs": [],
   "source": [
    "lst2.append(4)#adds the element to the end of the list"
   ]
  },
  {
   "cell_type": "code",
   "execution_count": 102,
   "id": "b52fe08f",
   "metadata": {},
   "outputs": [],
   "source": [
    "lst2.insert(0, 0)#insert(poisition, element)"
   ]
  },
  {
   "cell_type": "code",
   "execution_count": 103,
   "id": "69383718",
   "metadata": {},
   "outputs": [
    {
     "data": {
      "text/plain": [
       "[0, 4]"
      ]
     },
     "execution_count": 103,
     "metadata": {},
     "output_type": "execute_result"
    }
   ],
   "source": [
    "lst2"
   ]
  },
  {
   "cell_type": "code",
   "execution_count": 104,
   "id": "37144763",
   "metadata": {},
   "outputs": [
    {
     "data": {
      "text/plain": [
       "4"
      ]
     },
     "execution_count": 104,
     "metadata": {},
     "output_type": "execute_result"
    }
   ],
   "source": [
    "lst2.pop()#removes the last element and returns it"
   ]
  },
  {
   "cell_type": "code",
   "execution_count": 105,
   "id": "7d941aa5",
   "metadata": {},
   "outputs": [],
   "source": [
    "lst2.append(3)"
   ]
  },
  {
   "cell_type": "code",
   "execution_count": 106,
   "id": "bc05ee0f",
   "metadata": {},
   "outputs": [],
   "source": [
    "lst2.append(4)"
   ]
  },
  {
   "cell_type": "code",
   "execution_count": 107,
   "id": "e0b8f1bd",
   "metadata": {},
   "outputs": [
    {
     "data": {
      "text/plain": [
       "4"
      ]
     },
     "execution_count": 107,
     "metadata": {},
     "output_type": "execute_result"
    }
   ],
   "source": [
    "lst2.pop(2)#removes the 2nd element and returns it and if the index is greater than length of the list IndexError is thrown"
   ]
  },
  {
   "cell_type": "code",
   "execution_count": 108,
   "id": "0adec4af",
   "metadata": {},
   "outputs": [
    {
     "data": {
      "text/plain": [
       "[0, 3]"
      ]
     },
     "execution_count": 108,
     "metadata": {},
     "output_type": "execute_result"
    }
   ],
   "source": [
    "lst2"
   ]
  },
  {
   "cell_type": "code",
   "execution_count": 109,
   "id": "238e1628",
   "metadata": {},
   "outputs": [],
   "source": [
    "lst4 = [i for i in range(9)]"
   ]
  },
  {
   "cell_type": "code",
   "execution_count": 110,
   "id": "6291882d",
   "metadata": {},
   "outputs": [
    {
     "data": {
      "text/plain": [
       "[0, 1, 2, 3, 4, 5, 6, 7, 8]"
      ]
     },
     "execution_count": 110,
     "metadata": {},
     "output_type": "execute_result"
    }
   ],
   "source": [
    "lst4"
   ]
  },
  {
   "cell_type": "code",
   "execution_count": 111,
   "id": "984cf58b",
   "metadata": {},
   "outputs": [
    {
     "data": {
      "text/plain": [
       "[0, 2, 4, 6, 8]"
      ]
     },
     "execution_count": 111,
     "metadata": {},
     "output_type": "execute_result"
    }
   ],
   "source": [
    "lst4[::2]"
   ]
  },
  {
   "cell_type": "code",
   "execution_count": 112,
   "id": "1249af3b",
   "metadata": {},
   "outputs": [
    {
     "data": {
      "text/plain": [
       "[1, 3, 5, 7]"
      ]
     },
     "execution_count": 112,
     "metadata": {},
     "output_type": "execute_result"
    }
   ],
   "source": [
    "lst4[1::2]"
   ]
  },
  {
   "cell_type": "markdown",
   "id": "e9c71a37",
   "metadata": {},
   "source": [
    "Max element in the list"
   ]
  },
  {
   "cell_type": "code",
   "execution_count": 113,
   "id": "e52b77d7",
   "metadata": {},
   "outputs": [
    {
     "data": {
      "text/plain": [
       "8"
      ]
     },
     "execution_count": 113,
     "metadata": {},
     "output_type": "execute_result"
    }
   ],
   "source": [
    "max(lst4)"
   ]
  },
  {
   "cell_type": "markdown",
   "id": "0dd5be37",
   "metadata": {},
   "source": [
    "Min element in the list"
   ]
  },
  {
   "cell_type": "code",
   "execution_count": 114,
   "id": "21422c62",
   "metadata": {},
   "outputs": [
    {
     "data": {
      "text/plain": [
       "0"
      ]
     },
     "execution_count": 114,
     "metadata": {},
     "output_type": "execute_result"
    }
   ],
   "source": [
    "min(lst4)"
   ]
  },
  {
   "cell_type": "code",
   "execution_count": 115,
   "id": "37000368",
   "metadata": {},
   "outputs": [
    {
     "data": {
      "text/plain": [
       "[0, 1, 2, 3, 4, 5, 6, 7, 8]"
      ]
     },
     "execution_count": 115,
     "metadata": {},
     "output_type": "execute_result"
    }
   ],
   "source": [
    "lst4"
   ]
  },
  {
   "cell_type": "markdown",
   "id": "4fc06b1e",
   "metadata": {},
   "source": [
    "Sum of all elements in the list"
   ]
  },
  {
   "cell_type": "code",
   "execution_count": 116,
   "id": "509c934f",
   "metadata": {},
   "outputs": [],
   "source": [
    "#sum(lst4)"
   ]
  },
  {
   "cell_type": "markdown",
   "id": "7fa82a41",
   "metadata": {},
   "source": [
    "Number of elements in the list"
   ]
  },
  {
   "cell_type": "code",
   "execution_count": 117,
   "id": "a2ec1b85",
   "metadata": {},
   "outputs": [
    {
     "data": {
      "text/plain": [
       "9"
      ]
     },
     "execution_count": 117,
     "metadata": {},
     "output_type": "execute_result"
    }
   ],
   "source": [
    "len(lst4)"
   ]
  },
  {
   "cell_type": "markdown",
   "id": "a118e3cb",
   "metadata": {},
   "source": [
    "list() constructor only takes in iterbales"
   ]
  },
  {
   "cell_type": "markdown",
   "id": "e3b70cdd",
   "metadata": {},
   "source": [
    "Convert a string to list of characters"
   ]
  },
  {
   "cell_type": "code",
   "execution_count": 118,
   "id": "d3ee37f0",
   "metadata": {},
   "outputs": [
    {
     "data": {
      "text/plain": [
       "['H', 'e', 'l', 'l', 'o']"
      ]
     },
     "execution_count": 118,
     "metadata": {},
     "output_type": "execute_result"
    }
   ],
   "source": [
    "list(\"Hello\")"
   ]
  },
  {
   "cell_type": "code",
   "execution_count": 119,
   "id": "8f7b5224",
   "metadata": {},
   "outputs": [],
   "source": [
    "dict1 = {\"first\" : 1, \"second\" : 2}"
   ]
  },
  {
   "cell_type": "code",
   "execution_count": 120,
   "id": "08b3ff05",
   "metadata": {},
   "outputs": [
    {
     "data": {
      "text/plain": [
       "['first', 'second']"
      ]
     },
     "execution_count": 120,
     "metadata": {},
     "output_type": "execute_result"
    }
   ],
   "source": [
    "list(dict1)"
   ]
  },
  {
   "cell_type": "code",
   "execution_count": 121,
   "id": "0f3068dc",
   "metadata": {},
   "outputs": [],
   "source": [
    "lst5 = [num for num in range(9, 19)]"
   ]
  },
  {
   "cell_type": "markdown",
   "id": "046caaa1",
   "metadata": {},
   "source": [
    "List concatenation"
   ]
  },
  {
   "cell_type": "code",
   "execution_count": 122,
   "id": "648c5702",
   "metadata": {},
   "outputs": [
    {
     "data": {
      "text/plain": [
       "[0, 1, 2, 3, 4, 5, 6, 7, 8, 9, 10, 11, 12, 13, 14, 15, 16, 17, 18]"
      ]
     },
     "execution_count": 122,
     "metadata": {},
     "output_type": "execute_result"
    }
   ],
   "source": [
    "lst4 + lst5"
   ]
  },
  {
   "cell_type": "markdown",
   "id": "359b9b6a",
   "metadata": {},
   "source": [
    "A list can be iterated over a for loop"
   ]
  },
  {
   "cell_type": "code",
   "execution_count": 123,
   "id": "d68b22e7",
   "metadata": {},
   "outputs": [
    {
     "name": "stdout",
     "output_type": "stream",
     "text": [
      "9 , 10 , 11 , 12 , 13 , 14 , 15 , 16 , 17 , 18 , "
     ]
    }
   ],
   "source": [
    "for i in lst5:\n",
    "    print(i, end=\" , \")"
   ]
  },
  {
   "cell_type": "markdown",
   "id": "d8ea435f",
   "metadata": {},
   "source": [
    "Extending a list by attaching another list on its tail"
   ]
  },
  {
   "cell_type": "code",
   "execution_count": 124,
   "id": "bb998cc3",
   "metadata": {},
   "outputs": [
    {
     "data": {
      "text/plain": [
       "[0, 1, 2, 3, 4, 5, 6, 7, 8]"
      ]
     },
     "execution_count": 124,
     "metadata": {},
     "output_type": "execute_result"
    }
   ],
   "source": [
    "lst4"
   ]
  },
  {
   "cell_type": "code",
   "execution_count": 125,
   "id": "fad255eb",
   "metadata": {},
   "outputs": [],
   "source": [
    "lst4.extend(lst5)"
   ]
  },
  {
   "cell_type": "code",
   "execution_count": 126,
   "id": "2e780f40",
   "metadata": {},
   "outputs": [
    {
     "data": {
      "text/plain": [
       "[0, 1, 2, 3, 4, 5, 6, 7, 8, 9, 10, 11, 12, 13, 14, 15, 16, 17, 18]"
      ]
     },
     "execution_count": 126,
     "metadata": {},
     "output_type": "execute_result"
    }
   ],
   "source": [
    "lst4"
   ]
  },
  {
   "cell_type": "markdown",
   "id": "691b90fd",
   "metadata": {},
   "source": [
    "Removing a item from a list. If the item is not in the list ValueError is thrown"
   ]
  },
  {
   "cell_type": "code",
   "execution_count": 127,
   "id": "647098e0",
   "metadata": {},
   "outputs": [],
   "source": [
    "lst4.remove(2)"
   ]
  },
  {
   "cell_type": "code",
   "execution_count": 128,
   "id": "9d3cfc85",
   "metadata": {},
   "outputs": [
    {
     "data": {
      "text/plain": [
       "[0, 1, 3, 4, 5, 6, 7, 8, 9, 10, 11, 12, 13, 14, 15, 16, 17, 18]"
      ]
     },
     "execution_count": 128,
     "metadata": {},
     "output_type": "execute_result"
    }
   ],
   "source": [
    "lst4"
   ]
  },
  {
   "cell_type": "code",
   "execution_count": 129,
   "id": "3d262bc0",
   "metadata": {},
   "outputs": [],
   "source": [
    "lst4.clear()#deletes all elements in the list"
   ]
  },
  {
   "cell_type": "code",
   "execution_count": 130,
   "id": "ab35d717",
   "metadata": {},
   "outputs": [],
   "source": [
    "lst5.reverse()#reverses the list in place"
   ]
  },
  {
   "cell_type": "code",
   "execution_count": 131,
   "id": "be714da6",
   "metadata": {},
   "outputs": [
    {
     "data": {
      "text/plain": [
       "[18, 17, 16, 15, 14, 13, 12, 11, 10, 9]"
      ]
     },
     "execution_count": 131,
     "metadata": {},
     "output_type": "execute_result"
    }
   ],
   "source": [
    "lst5"
   ]
  },
  {
   "cell_type": "code",
   "execution_count": 132,
   "id": "d6ebbbef",
   "metadata": {},
   "outputs": [],
   "source": [
    "lst5.sort(reverse=True)#sort the list in descending order"
   ]
  },
  {
   "cell_type": "code",
   "execution_count": 133,
   "id": "0f88a2d7",
   "metadata": {},
   "outputs": [
    {
     "data": {
      "text/plain": [
       "[18, 17, 16, 15, 14, 13, 12, 11, 10, 9]"
      ]
     },
     "execution_count": 133,
     "metadata": {},
     "output_type": "execute_result"
    }
   ],
   "source": [
    "lst5"
   ]
  },
  {
   "cell_type": "markdown",
   "id": "8db951fc",
   "metadata": {},
   "source": [
    "To find how many times a element appears in a list"
   ]
  },
  {
   "cell_type": "code",
   "execution_count": 134,
   "id": "f1562671",
   "metadata": {},
   "outputs": [
    {
     "data": {
      "text/plain": [
       "1"
      ]
     },
     "execution_count": 134,
     "metadata": {},
     "output_type": "execute_result"
    }
   ],
   "source": [
    "lst5.count(18)"
   ]
  },
  {
   "cell_type": "code",
   "execution_count": 135,
   "id": "8074937a",
   "metadata": {},
   "outputs": [
    {
     "data": {
      "text/plain": [
       "0"
      ]
     },
     "execution_count": 135,
     "metadata": {},
     "output_type": "execute_result"
    }
   ],
   "source": [
    "lst5.count(0)"
   ]
  },
  {
   "cell_type": "markdown",
   "id": "bece6315",
   "metadata": {},
   "source": [
    "To find the index of element in a list. If the element is not in the list a ValueError is thrown"
   ]
  },
  {
   "cell_type": "code",
   "execution_count": 136,
   "id": "f7f652ee",
   "metadata": {},
   "outputs": [
    {
     "data": {
      "text/plain": [
       "0"
      ]
     },
     "execution_count": 136,
     "metadata": {},
     "output_type": "execute_result"
    }
   ],
   "source": [
    "lst5.index(18)"
   ]
  },
  {
   "cell_type": "code",
   "execution_count": 137,
   "id": "c2a3f5fa",
   "metadata": {},
   "outputs": [
    {
     "data": {
      "text/plain": [
       "[18, 17, 16, 15, 14, 13, 12, 11, 10, 9]"
      ]
     },
     "execution_count": 137,
     "metadata": {},
     "output_type": "execute_result"
    }
   ],
   "source": [
    "lst5"
   ]
  },
  {
   "cell_type": "code",
   "execution_count": 138,
   "id": "9c36a9e0",
   "metadata": {},
   "outputs": [],
   "source": [
    "lst5.sort()"
   ]
  },
  {
   "cell_type": "code",
   "execution_count": 139,
   "id": "32c84ade",
   "metadata": {},
   "outputs": [
    {
     "data": {
      "text/plain": [
       "[9, 10, 11, 12, 13, 14, 15, 16, 17, 18]"
      ]
     },
     "execution_count": 139,
     "metadata": {},
     "output_type": "execute_result"
    }
   ],
   "source": [
    "lst5"
   ]
  },
  {
   "cell_type": "markdown",
   "id": "e3d2d900",
   "metadata": {},
   "source": [
    "while loop"
   ]
  },
  {
   "cell_type": "code",
   "execution_count": 140,
   "id": "f6eb1eec",
   "metadata": {},
   "outputs": [],
   "source": [
    "num = 10"
   ]
  },
  {
   "cell_type": "code",
   "execution_count": 141,
   "id": "c47591d6",
   "metadata": {},
   "outputs": [
    {
     "name": "stdout",
     "output_type": "stream",
     "text": [
      "10\n",
      "9\n",
      "8\n",
      "7\n",
      "6\n",
      "5\n",
      "4\n",
      "3\n",
      "2\n",
      "1\n"
     ]
    }
   ],
   "source": [
    "while num > 0:\n",
    "    print(num)\n",
    "    num -= 1"
   ]
  },
  {
   "cell_type": "markdown",
   "id": "dc304378",
   "metadata": {},
   "source": [
    "range() objects are lazy (values are generated on request), support all common sequence operations, and take up a fixed amount of memory, no matter how long the sequence specified."
   ]
  },
  {
   "cell_type": "code",
   "execution_count": 142,
   "id": "0c48fd0c",
   "metadata": {},
   "outputs": [],
   "source": [
    "start, stop, step = 0, 100, 10"
   ]
  },
  {
   "cell_type": "code",
   "execution_count": 143,
   "id": "780a752a",
   "metadata": {},
   "outputs": [
    {
     "name": "stdout",
     "output_type": "stream",
     "text": [
      "0\n",
      "10\n",
      "20\n",
      "30\n",
      "40\n",
      "50\n",
      "60\n",
      "70\n",
      "80\n",
      "90\n"
     ]
    }
   ],
   "source": [
    "for i in range(start, stop,step):\n",
    "    print(i)"
   ]
  },
  {
   "cell_type": "markdown",
   "id": "fffd662e",
   "metadata": {},
   "source": [
    "continue - go to the next iteration, break - stop immediately, pass - do nothing"
   ]
  },
  {
   "cell_type": "code",
   "execution_count": 144,
   "id": "e41e50c0",
   "metadata": {},
   "outputs": [
    {
     "name": "stdout",
     "output_type": "stream",
     "text": [
      "1\n",
      "2\n",
      "4\n",
      "5\n",
      "7\n",
      "8\n",
      "10\n",
      "11\n",
      "13\n",
      "14\n",
      "16\n",
      "17\n",
      "19\n",
      "20\n",
      "22\n"
     ]
    }
   ],
   "source": [
    "for i in range(30):\n",
    "    if i % 3 == 0: continue\n",
    "    if i % 5 == 0: pass \n",
    "    if i == 23: break\n",
    "    print(i)"
   ]
  },
  {
   "cell_type": "markdown",
   "id": "318f9ea7",
   "metadata": {},
   "source": [
    "Tuple = list but immutable . Tuples support all common sequence operations. Tuples can also be sliced"
   ]
  },
  {
   "cell_type": "code",
   "execution_count": 145,
   "id": "39bdc7b7",
   "metadata": {},
   "outputs": [],
   "source": [
    "a = (1, \"A\", True)"
   ]
  },
  {
   "cell_type": "code",
   "execution_count": 146,
   "id": "4ad324ec",
   "metadata": {},
   "outputs": [
    {
     "data": {
      "text/plain": [
       "(1, 'A', True)"
      ]
     },
     "execution_count": 146,
     "metadata": {},
     "output_type": "execute_result"
    }
   ],
   "source": [
    "a"
   ]
  },
  {
   "cell_type": "code",
   "execution_count": 147,
   "id": "e7c717b2",
   "metadata": {},
   "outputs": [
    {
     "data": {
      "text/plain": [
       "tuple"
      ]
     },
     "execution_count": 147,
     "metadata": {},
     "output_type": "execute_result"
    }
   ],
   "source": [
    "type(a)"
   ]
  },
  {
   "cell_type": "code",
   "execution_count": 148,
   "id": "6ff01595",
   "metadata": {},
   "outputs": [
    {
     "data": {
      "text/plain": [
       "(9, 10, 11, 12, 13, 14, 15, 16, 17, 18)"
      ]
     },
     "execution_count": 148,
     "metadata": {},
     "output_type": "execute_result"
    }
   ],
   "source": [
    "tuple(lst5)"
   ]
  },
  {
   "cell_type": "code",
   "execution_count": 149,
   "id": "a75fa22b",
   "metadata": {},
   "outputs": [
    {
     "data": {
      "text/plain": [
       "('H', 'e', 'l', 'l', 'o', ',', ' ', 'W', 'o', 'r', 'l', 'd')"
      ]
     },
     "execution_count": 149,
     "metadata": {},
     "output_type": "execute_result"
    }
   ],
   "source": [
    "tuple(\"Hello, World\")"
   ]
  },
  {
   "cell_type": "code",
   "execution_count": 150,
   "id": "3cd4b6fa",
   "metadata": {},
   "outputs": [],
   "source": [
    "t1 = tuple(lst5) + tuple(\"Hello, World\")"
   ]
  },
  {
   "cell_type": "code",
   "execution_count": 151,
   "id": "515d1ee7",
   "metadata": {},
   "outputs": [
    {
     "data": {
      "text/plain": [
       "False"
      ]
     },
     "execution_count": 151,
     "metadata": {},
     "output_type": "execute_result"
    }
   ],
   "source": [
    "1 in t1"
   ]
  },
  {
   "cell_type": "code",
   "execution_count": 152,
   "id": "822ca86d",
   "metadata": {},
   "outputs": [
    {
     "name": "stdout",
     "output_type": "stream",
     "text": [
      "0 9\n",
      "1 10\n",
      "2 11\n",
      "3 12\n",
      "4 13\n",
      "5 14\n",
      "6 15\n",
      "7 16\n",
      "8 17\n",
      "9 18\n",
      "10 H\n",
      "11 e\n",
      "12 l\n",
      "13 l\n",
      "14 o\n",
      "15 ,\n",
      "16  \n",
      "17 W\n",
      "18 o\n",
      "19 r\n",
      "20 l\n",
      "21 d\n"
     ]
    }
   ],
   "source": [
    "for index, val in enumerate(t1):\n",
    "    print(index, val)"
   ]
  },
  {
   "cell_type": "code",
   "execution_count": 153,
   "id": "b3bf892f",
   "metadata": {},
   "outputs": [
    {
     "name": "stdout",
     "output_type": "stream",
     "text": [
      "9\n",
      "10\n",
      "11\n",
      "12\n",
      "13\n",
      "14\n",
      "15\n",
      "16\n",
      "17\n",
      "18\n",
      "H\n",
      "e\n",
      "l\n",
      "l\n",
      "o\n",
      ",\n",
      " \n",
      "W\n",
      "o\n",
      "r\n",
      "l\n",
      "d\n"
     ]
    }
   ],
   "source": [
    "for i in t1:\n",
    "    print(i)"
   ]
  },
  {
   "cell_type": "code",
   "execution_count": 154,
   "id": "146039a8",
   "metadata": {},
   "outputs": [
    {
     "data": {
      "text/plain": [
       "1"
      ]
     },
     "execution_count": 154,
     "metadata": {},
     "output_type": "execute_result"
    }
   ],
   "source": [
    "(1)"
   ]
  },
  {
   "cell_type": "code",
   "execution_count": 155,
   "id": "7743a68c",
   "metadata": {},
   "outputs": [
    {
     "data": {
      "text/plain": [
       "tuple"
      ]
     },
     "execution_count": 155,
     "metadata": {},
     "output_type": "execute_result"
    }
   ],
   "source": [
    "type(t1[0:])"
   ]
  },
  {
   "cell_type": "code",
   "execution_count": 156,
   "id": "fdf3775b",
   "metadata": {},
   "outputs": [
    {
     "data": {
      "text/plain": [
       "\"(9, 10, 11, 12, 13, 14, 15, 16, 17, 18, 'H', 'e', 'l', 'l', 'o', ',', ' ', 'W', 'o', 'r', 'l', 'd')\""
      ]
     },
     "execution_count": 156,
     "metadata": {},
     "output_type": "execute_result"
    }
   ],
   "source": [
    "str(t1)"
   ]
  },
  {
   "cell_type": "code",
   "execution_count": 157,
   "id": "fa055a68",
   "metadata": {},
   "outputs": [],
   "source": [
    "input_data = (\n",
    "                ('Scrimshawed Whale Tooth', '2A', 'Deserted Docks', ('2', 'A'), 'Blue'),\n",
    "                ('Brass Spyglass', '4B', 'Abandoned Lighthouse', ('4', 'B'), 'Blue'),\n",
    "                ('Robot Parrot', '1C', 'Seaside Cottages', ('1', 'C'), 'Blue'),\n",
    "                ('Glass Starfish', '6D', 'Tangled Seaweed Patch', ('6', 'D'), 'Orange'),\n",
    "                ('Vintage Pirate Hat', '7E', 'Quiet Inlet (Island of Mystery)', ('7', 'E'), 'Orange'),\n",
    "                ('Pirate Flag', '7F', 'Windswept Hilltop (Island of Mystery)', ('7', 'F'), 'Orange'),\n",
    "                ('Crystal Crab', '6A', 'Old Schooner', ('6', 'A'), 'Purple'),\n",
    "                ('Model Ship in Large Bottle', '8A', 'Harbor Managers Office', ('8', 'A'), 'Purple'),\n",
    "                ('Angry Monkey Figurine', '5B', 'Stormy Breakwater', ('5', 'B'), 'Purple'),\n",
    "                ('Carved Wooden Elephant', '8C', 'Foggy Seacave', ('8', 'C'), 'Purple'),\n",
    "                ('Amethyst  Octopus', '1F', 'Aqua Lagoon (Island of Mystery)', ('1', 'F'), 'Yellow'),\n",
    "                ('Antique Glass Fishnet Float', '3D', 'Spiky Rocks', ('3', 'D'), 'Yellow'),\n",
    "                ('Silver Seahorse', '4E', 'Hidden Spring (Island of Mystery)', ('4', 'E'), 'Yellow')\n",
    "        )"
   ]
  },
  {
   "cell_type": "code",
   "execution_count": 158,
   "id": "68296cce",
   "metadata": {},
   "outputs": [],
   "source": [
    "def clean_up(combined_record_group):\n",
    "    \"\"\"Clean up a combined record group into a multi-line string of single records.\n",
    "\n",
    "    :param combined_record_group: tuple - everything from both participants.\n",
    "    :return: str - everything \"cleaned\", excess coordinates and information are removed.\n",
    "\n",
    "    The return statement should be a multi-lined string with items separated by newlines.\n",
    "\n",
    "    (see HINTS.md for an example).\n",
    "    \"\"\"\n",
    "    res = \"\"\n",
    "    for data in combined_record_group:\n",
    "        new_lst = [data[0]]+ list(data[2:])\n",
    "        res = str(tuple(new_lst)) + \"\\n\"\n",
    "\n",
    "    return res"
   ]
  },
  {
   "cell_type": "code",
   "execution_count": 159,
   "id": "d8b19513",
   "metadata": {},
   "outputs": [
    {
     "data": {
      "text/plain": [
       "\"('Silver Seahorse', 'Hidden Spring (Island of Mystery)', ('4', 'E'), 'Yellow')\\n\""
      ]
     },
     "execution_count": 159,
     "metadata": {},
     "output_type": "execute_result"
    }
   ],
   "source": [
    "clean_up(input_data)"
   ]
  },
  {
   "cell_type": "markdown",
   "id": "30f219df",
   "metadata": {},
   "source": [
    "Sorting a dictionary ???"
   ]
  },
  {
   "cell_type": "markdown",
   "id": "836efba2",
   "metadata": {},
   "source": [
    "Combining two dictionaries"
   ]
  },
  {
   "cell_type": "code",
   "execution_count": null,
   "id": "724dc832",
   "metadata": {},
   "outputs": [],
   "source": []
  },
  {
   "cell_type": "markdown",
   "id": "6e2952a1",
   "metadata": {},
   "source": [
    "Unpacking"
   ]
  },
  {
   "cell_type": "code",
   "execution_count": 160,
   "id": "beb76a59",
   "metadata": {},
   "outputs": [],
   "source": [
    "a, *b = lst5"
   ]
  },
  {
   "cell_type": "code",
   "execution_count": 161,
   "id": "9fc8c552",
   "metadata": {},
   "outputs": [
    {
     "data": {
      "text/plain": [
       "9"
      ]
     },
     "execution_count": 161,
     "metadata": {},
     "output_type": "execute_result"
    }
   ],
   "source": [
    "a"
   ]
  },
  {
   "cell_type": "code",
   "execution_count": null,
   "id": "ca02e43d",
   "metadata": {},
   "outputs": [
    {
     "data": {
      "text/plain": [
       "[10, 11, 12, 13, 14, 15, 16, 17, 18]"
      ]
     },
     "execution_count": 162,
     "metadata": {},
     "output_type": "execute_result"
    }
   ],
   "source": [
    "b"
   ]
  },
  {
   "cell_type": "code",
   "execution_count": 163,
   "id": "32abe5b3",
   "metadata": {},
   "outputs": [
    {
     "data": {
      "text/plain": [
       "list"
      ]
     },
     "execution_count": 163,
     "metadata": {},
     "output_type": "execute_result"
    }
   ],
   "source": [
    "type(b)"
   ]
  },
  {
   "cell_type": "code",
   "execution_count": 164,
   "id": "d5324a89",
   "metadata": {},
   "outputs": [],
   "source": [
    "a, *b, c, d = lst5"
   ]
  },
  {
   "cell_type": "code",
   "execution_count": 165,
   "id": "172c031c",
   "metadata": {},
   "outputs": [
    {
     "data": {
      "text/plain": [
       "9"
      ]
     },
     "execution_count": 165,
     "metadata": {},
     "output_type": "execute_result"
    }
   ],
   "source": [
    "a"
   ]
  },
  {
   "cell_type": "code",
   "execution_count": 166,
   "id": "396897df",
   "metadata": {},
   "outputs": [
    {
     "data": {
      "text/plain": [
       "[10, 11, 12, 13, 14, 15, 16]"
      ]
     },
     "execution_count": 166,
     "metadata": {},
     "output_type": "execute_result"
    }
   ],
   "source": [
    "b"
   ]
  },
  {
   "cell_type": "code",
   "execution_count": 167,
   "id": "adb5160c",
   "metadata": {},
   "outputs": [
    {
     "data": {
      "text/plain": [
       "17"
      ]
     },
     "execution_count": 167,
     "metadata": {},
     "output_type": "execute_result"
    }
   ],
   "source": [
    "c"
   ]
  },
  {
   "cell_type": "code",
   "execution_count": 168,
   "id": "771634ea",
   "metadata": {},
   "outputs": [
    {
     "data": {
      "text/plain": [
       "18"
      ]
     },
     "execution_count": 168,
     "metadata": {},
     "output_type": "execute_result"
    }
   ],
   "source": [
    "d"
   ]
  },
  {
   "cell_type": "markdown",
   "id": "b777a592",
   "metadata": {},
   "source": [
    "Packing and Unpacking Dictionaries"
   ]
  },
  {
   "cell_type": "code",
   "execution_count": null,
   "id": "1c75d549",
   "metadata": {},
   "outputs": [],
   "source": []
  },
  {
   "cell_type": "code",
   "execution_count": 169,
   "id": "d867b08b",
   "metadata": {},
   "outputs": [],
   "source": [
    "def generate_seats(number):\n",
    "    \"\"\"Generate a series of identifiers for airline seats.\n",
    "\n",
    "    :param number: int - total number of seats to be generated.\n",
    "    :return: generator - generator that yields seat numbers.\n",
    "\n",
    "    A seat number consists of the row number and the seat letter.\n",
    "\n",
    "    There is no row 13.\n",
    "    Each row has 4 seats.\n",
    "\n",
    "    Seats should be sorted from low to high.\n",
    "\n",
    "    Example: 3C, 3D, 4A, 4B\n",
    "\n",
    "    \"\"\"\n",
    "    row_num = 1\n",
    "    seat_num = 0\n",
    "    for _ in range(number):\n",
    "        yield f\"{row_num}{chr(ord('A') + seat_num)}\"\n",
    "        if seat_num == 3:\n",
    "            seat_num = -1\n",
    "            row_num += 1\n",
    "        seat_num += 1"
   ]
  },
  {
   "cell_type": "code",
   "execution_count": 170,
   "id": "c1f19919",
   "metadata": {},
   "outputs": [
    {
     "data": {
      "text/plain": [
       "<generator object generate_seats at 0x7577fc4e5840>"
      ]
     },
     "execution_count": 170,
     "metadata": {},
     "output_type": "execute_result"
    }
   ],
   "source": [
    "generate_seats(56)"
   ]
  },
  {
   "cell_type": "code",
   "execution_count": 171,
   "id": "740d814c",
   "metadata": {},
   "outputs": [
    {
     "name": "stdout",
     "output_type": "stream",
     "text": [
      "1A\n",
      "1B\n",
      "1C\n",
      "1D\n",
      "2A\n",
      "2B\n",
      "2C\n",
      "2D\n",
      "3A\n",
      "3B\n",
      "3C\n",
      "3D\n",
      "4A\n",
      "4B\n",
      "4C\n",
      "4D\n",
      "5A\n",
      "5B\n",
      "5C\n",
      "5D\n",
      "6A\n",
      "6B\n",
      "6C\n",
      "6D\n",
      "7A\n",
      "7B\n",
      "7C\n",
      "7D\n",
      "8A\n",
      "8B\n",
      "8C\n",
      "8D\n",
      "9A\n",
      "9B\n",
      "9C\n",
      "9D\n",
      "10A\n",
      "10B\n",
      "10C\n",
      "10D\n",
      "11A\n",
      "11B\n",
      "11C\n",
      "11D\n",
      "12A\n",
      "12B\n",
      "12C\n",
      "12D\n",
      "13A\n",
      "13B\n",
      "13C\n",
      "13D\n",
      "14A\n",
      "14B\n",
      "14C\n",
      "14D\n"
     ]
    }
   ],
   "source": [
    "for i in generate_seats(56):\n",
    "    print(i)"
   ]
  },
  {
   "cell_type": "code",
   "execution_count": 172,
   "id": "a07aceb1",
   "metadata": {},
   "outputs": [],
   "source": [
    "a = [1, 1, 2]"
   ]
  },
  {
   "cell_type": "code",
   "execution_count": 173,
   "id": "706fa2e8",
   "metadata": {},
   "outputs": [],
   "source": [
    "a.remove(1)"
   ]
  },
  {
   "cell_type": "code",
   "execution_count": 174,
   "id": "94dd92c2",
   "metadata": {},
   "outputs": [
    {
     "data": {
      "text/plain": [
       "[1, 2]"
      ]
     },
     "execution_count": 174,
     "metadata": {},
     "output_type": "execute_result"
    }
   ],
   "source": [
    "a"
   ]
  },
  {
   "cell_type": "code",
   "execution_count": 175,
   "id": "96dc994b",
   "metadata": {},
   "outputs": [
    {
     "data": {
      "text/plain": [
       "-3550055125485641917"
      ]
     },
     "execution_count": 175,
     "metadata": {},
     "output_type": "execute_result"
    }
   ],
   "source": [
    "hash((1, 2))"
   ]
  },
  {
   "cell_type": "markdown",
   "id": "95d200d3",
   "metadata": {},
   "source": [
    "String isalnum() , isalpha(), isdigit(), islower(),isupper()???"
   ]
  },
  {
   "cell_type": "code",
   "execution_count": 177,
   "id": "fdffb24a",
   "metadata": {},
   "outputs": [],
   "source": [
    "strng = \"bscnksbcjscksbcjksbckjdscsbdcbsdkjbcsdjcbsdjkcbsdkjbckjdsbjksd\""
   ]
  },
  {
   "cell_type": "code",
   "execution_count": 178,
   "id": "9181bffb",
   "metadata": {},
   "outputs": [],
   "source": [
    "def wrap(string, max_width):\n",
    "    res = \"\"\n",
    "    curr = 0\n",
    "    for char in string:\n",
    "        res += char\n",
    "        curr += 1\n",
    "        if curr == 4:\n",
    "            res += \"\\n\"\n",
    "            curr = 0\n",
    "            \n",
    "    return res"
   ]
  },
  {
   "cell_type": "code",
   "execution_count": 179,
   "id": "8f8a7453",
   "metadata": {},
   "outputs": [],
   "source": [
    "strng2 = wrap(strng, 9)"
   ]
  },
  {
   "cell_type": "code",
   "execution_count": 180,
   "id": "e2f96793",
   "metadata": {},
   "outputs": [
    {
     "name": "stdout",
     "output_type": "stream",
     "text": [
      "bscn\n",
      "ksbc\n",
      "jsck\n",
      "sbcj\n",
      "ksbc\n",
      "kjds\n",
      "csbd\n",
      "cbsd\n",
      "kjbc\n",
      "sdjc\n",
      "bsdj\n",
      "kcbs\n",
      "dkjb\n",
      "ckjd\n",
      "sbjk\n",
      "sd\n"
     ]
    }
   ],
   "source": [
    "print(strng2)"
   ]
  },
  {
   "cell_type": "code",
   "execution_count": null,
   "id": "7cde5c83",
   "metadata": {},
   "outputs": [],
   "source": []
  }
 ],
 "metadata": {
  "kernelspec": {
   "display_name": ".venv",
   "language": "python",
   "name": "python3"
  },
  "language_info": {
   "codemirror_mode": {
    "name": "ipython",
    "version": 3
   },
   "file_extension": ".py",
   "mimetype": "text/x-python",
   "name": "python",
   "nbconvert_exporter": "python",
   "pygments_lexer": "ipython3",
   "version": "3.12.3"
  }
 },
 "nbformat": 4,
 "nbformat_minor": 5
}
