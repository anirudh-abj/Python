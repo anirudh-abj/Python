{
 "cells": [
  {
   "cell_type": "markdown",
   "id": "ca4b901a",
   "metadata": {},
   "source": [
    "A complete self contained notebook which explains and implements examples of all significant features of python"
   ]
  },
  {
   "cell_type": "code",
   "execution_count": 1,
   "id": "7a1a5d7a",
   "metadata": {},
   "outputs": [
    {
     "name": "stdout",
     "output_type": "stream",
     "text": [
      "Hello, World!\n"
     ]
    }
   ],
   "source": [
    "print(\"Hello, World!\")"
   ]
  },
  {
   "cell_type": "markdown",
   "id": "23d57f6d",
   "metadata": {},
   "source": [
    "Python is a dynamic and strongly typed language. Everything in python is a object just like java ? https://docs.python.org/3/reference/datamodel.html"
   ]
  },
  {
   "cell_type": "markdown",
   "id": "ec6a1cd0",
   "metadata": {},
   "source": [
    "Variable assignment.\"=\" is a assignment operator .A variable can be reassigned to any object. "
   ]
  },
  {
   "cell_type": "code",
   "execution_count": 5,
   "id": "54571466",
   "metadata": {},
   "outputs": [],
   "source": [
    "a = 1"
   ]
  },
  {
   "cell_type": "code",
   "execution_count": 6,
   "id": "4ca4e82c",
   "metadata": {},
   "outputs": [
    {
     "name": "stdout",
     "output_type": "stream",
     "text": [
      "1  ;  <class 'int'>\n"
     ]
    }
   ],
   "source": [
    "print(a, \" ; \" ,type(a))"
   ]
  },
  {
   "cell_type": "code",
   "execution_count": 7,
   "id": "9f975f1d",
   "metadata": {},
   "outputs": [],
   "source": [
    "a = \"Hello\""
   ]
  },
  {
   "cell_type": "code",
   "execution_count": 8,
   "id": "16408a0f",
   "metadata": {},
   "outputs": [
    {
     "name": "stdout",
     "output_type": "stream",
     "text": [
      "Hello  ;  <class 'str'>\n"
     ]
    }
   ],
   "source": [
    "print(a, \" ; \" ,type(a))"
   ]
  },
  {
   "cell_type": "markdown",
   "id": "bcb80004",
   "metadata": {},
   "source": [
    "Python uses indentation. Wrong indentation can give errors"
   ]
  },
  {
   "cell_type": "markdown",
   "id": "c1afdece",
   "metadata": {},
   "source": [
    "Functions"
   ]
  },
  {
   "cell_type": "code",
   "execution_count": null,
   "id": "7fbdb210",
   "metadata": {},
   "outputs": [],
   "source": [
    "def add(a : int, b : int) -> int:\n",
    "    return a + b# returns the sum of a and b"
   ]
  },
  {
   "cell_type": "code",
   "execution_count": 2,
   "id": "b7315326",
   "metadata": {},
   "outputs": [
    {
     "data": {
      "text/plain": [
       "3"
      ]
     },
     "execution_count": 2,
     "metadata": {},
     "output_type": "execute_result"
    }
   ],
   "source": [
    "add(1, 2)"
   ]
  },
  {
   "cell_type": "markdown",
   "id": "088be0ff",
   "metadata": {},
   "source": [
    "The returned value can be stored in a variable "
   ]
  },
  {
   "cell_type": "code",
   "execution_count": 5,
   "id": "3356ec88",
   "metadata": {},
   "outputs": [],
   "source": [
    "sum = add(3, 4)"
   ]
  },
  {
   "cell_type": "code",
   "execution_count": 6,
   "id": "767d961d",
   "metadata": {},
   "outputs": [
    {
     "data": {
      "text/plain": [
       "7"
      ]
     },
     "execution_count": 6,
     "metadata": {},
     "output_type": "execute_result"
    }
   ],
   "source": [
    "sum"
   ]
  },
  {
   "cell_type": "markdown",
   "id": "cc6245f7",
   "metadata": {},
   "source": [
    "Here python implicitly returns None object"
   ]
  },
  {
   "cell_type": "code",
   "execution_count": null,
   "id": "3af221b8",
   "metadata": {},
   "outputs": [],
   "source": [
    "def greet(name :str) -> None:\n",
    "    print(f\"Hello, {name}\")"
   ]
  },
  {
   "cell_type": "code",
   "execution_count": 4,
   "id": "90410a5e",
   "metadata": {},
   "outputs": [
    {
     "name": "stdout",
     "output_type": "stream",
     "text": [
      "Hello, Anirudh\n"
     ]
    }
   ],
   "source": [
    "greet(\"Anirudh\")"
   ]
  },
  {
   "cell_type": "code",
   "execution_count": 7,
   "id": "dac54198",
   "metadata": {},
   "outputs": [
    {
     "name": "stdout",
     "output_type": "stream",
     "text": [
      "Hello, Anirudh\n"
     ]
    }
   ],
   "source": [
    "null = greet(\"Anirudh\")"
   ]
  },
  {
   "cell_type": "code",
   "execution_count": 9,
   "id": "5c2fd9d1",
   "metadata": {},
   "outputs": [
    {
     "name": "stdout",
     "output_type": "stream",
     "text": [
      "None\n"
     ]
    }
   ],
   "source": [
    "print(null)"
   ]
  },
  {
   "cell_type": "code",
   "execution_count": 10,
   "id": "ae40ae22",
   "metadata": {},
   "outputs": [],
   "source": [
    "#this is a comment in python. these are not considered while interpretations. They can be only single line"
   ]
  },
  {
   "cell_type": "markdown",
   "id": "d8ef51f2",
   "metadata": {},
   "source": [
    "Python does not support multi line comments ??"
   ]
  },
  {
   "cell_type": "markdown",
   "id": "6ecfd2a3",
   "metadata": {},
   "source": [
    "Functions can be described using doc strings.(https://peps.python.org/pep-0257/)"
   ]
  },
  {
   "cell_type": "code",
   "execution_count": 11,
   "id": "068a0be2",
   "metadata": {},
   "outputs": [],
   "source": [
    "def mul(a : int, b : int) -> int:\n",
    "    \"\"\"\n",
    "    Takes in two integers and returns their product\n",
    "    \"\"\"\n",
    "    return a * b"
   ]
  },
  {
   "cell_type": "code",
   "execution_count": 12,
   "id": "f4dc8284",
   "metadata": {},
   "outputs": [
    {
     "data": {
      "text/plain": [
       "12"
      ]
     },
     "execution_count": 12,
     "metadata": {},
     "output_type": "execute_result"
    }
   ],
   "source": [
    "mul(3, 4)"
   ]
  },
  {
   "cell_type": "code",
   "execution_count": 15,
   "id": "d7e1ab75",
   "metadata": {},
   "outputs": [
    {
     "data": {
      "text/plain": [
       "'\\n    Takes in two integers and returns their product\\n    '"
      ]
     },
     "execution_count": 15,
     "metadata": {},
     "output_type": "execute_result"
    }
   ],
   "source": [
    "mul.__doc__#returns the doc string of the function"
   ]
  },
  {
   "cell_type": "markdown",
   "id": "a8b243a4",
   "metadata": {},
   "source": [
    "Python has many number types\n",
    "(1) Integere (int)\n",
    "(2) Floating point numbers (float)\n",
    "(3) Complex\n",
    "(4) Fraction(fractions.Fraction)\n",
    "(5) Decimal(decimal.Decimal)\n",
    "(6) Binary(bin())\n",
    "(7) Octal (oct())\n",
    "(8) Hexadecimal (hect())"
   ]
  },
  {
   "cell_type": "code",
   "execution_count": 16,
   "id": "dc96c879",
   "metadata": {},
   "outputs": [],
   "source": [
    "a : int = 1"
   ]
  },
  {
   "cell_type": "code",
   "execution_count": 17,
   "id": "513cb938",
   "metadata": {},
   "outputs": [],
   "source": [
    "b : int = 2"
   ]
  },
  {
   "cell_type": "markdown",
   "id": "2b649881",
   "metadata": {},
   "source": [
    "Integers in python have arbitray precision. They are only limited by the host system"
   ]
  },
  {
   "cell_type": "code",
   "execution_count": null,
   "id": "30ad980d",
   "metadata": {},
   "outputs": [],
   "source": []
  },
  {
   "cell_type": "code",
   "execution_count": 18,
   "id": "aa22c25f",
   "metadata": {},
   "outputs": [
    {
     "data": {
      "text/plain": [
       "3"
      ]
     },
     "execution_count": 18,
     "metadata": {},
     "output_type": "execute_result"
    }
   ],
   "source": [
    "a + b"
   ]
  },
  {
   "cell_type": "code",
   "execution_count": 19,
   "id": "999fd3d7",
   "metadata": {},
   "outputs": [
    {
     "data": {
      "text/plain": [
       "-1"
      ]
     },
     "execution_count": 19,
     "metadata": {},
     "output_type": "execute_result"
    }
   ],
   "source": [
    "a - b"
   ]
  },
  {
   "cell_type": "code",
   "execution_count": 20,
   "id": "a4184e4f",
   "metadata": {},
   "outputs": [
    {
     "data": {
      "text/plain": [
       "2"
      ]
     },
     "execution_count": 20,
     "metadata": {},
     "output_type": "execute_result"
    }
   ],
   "source": [
    "a * b"
   ]
  },
  {
   "cell_type": "markdown",
   "id": "aafa7ae5",
   "metadata": {},
   "source": [
    "division always returns a float"
   ]
  },
  {
   "cell_type": "code",
   "execution_count": 21,
   "id": "3a44f0ed",
   "metadata": {},
   "outputs": [
    {
     "data": {
      "text/plain": [
       "0.5"
      ]
     },
     "execution_count": 21,
     "metadata": {},
     "output_type": "execute_result"
    }
   ],
   "source": [
    "a / b"
   ]
  },
  {
   "cell_type": "code",
   "execution_count": 22,
   "id": "dc521633",
   "metadata": {},
   "outputs": [
    {
     "data": {
      "text/plain": [
       "0"
      ]
     },
     "execution_count": 22,
     "metadata": {},
     "output_type": "execute_result"
    }
   ],
   "source": [
    "a // b"
   ]
  },
  {
   "cell_type": "code",
   "execution_count": 23,
   "id": "e896ba4e",
   "metadata": {},
   "outputs": [
    {
     "data": {
      "text/plain": [
       "1"
      ]
     },
     "execution_count": 23,
     "metadata": {},
     "output_type": "execute_result"
    }
   ],
   "source": [
    "a % b"
   ]
  },
  {
   "cell_type": "markdown",
   "id": "6e939a85",
   "metadata": {},
   "source": [
    "Floats are implemented using \"double\" in C"
   ]
  },
  {
   "cell_type": "code",
   "execution_count": 24,
   "id": "99d2d8ae",
   "metadata": {},
   "outputs": [],
   "source": [
    "pi : float = 3.14"
   ]
  },
  {
   "cell_type": "markdown",
   "id": "c647ad8e",
   "metadata": {},
   "source": [
    "When a lower number type is in a arithmetic op with higher number type then the lower number type is convert to higher number type automatically by python\n",
    "\n",
    "int + float => float + float "
   ]
  },
  {
   "cell_type": "code",
   "execution_count": 25,
   "id": "698f2a00",
   "metadata": {},
   "outputs": [
    {
     "data": {
      "text/plain": [
       "4.140000000000001"
      ]
     },
     "execution_count": 25,
     "metadata": {},
     "output_type": "execute_result"
    }
   ],
   "source": [
    "a + pi"
   ]
  },
  {
   "cell_type": "markdown",
   "id": "d8c9f31a",
   "metadata": {},
   "source": [
    "Converting a int to float and vice versa"
   ]
  },
  {
   "cell_type": "code",
   "execution_count": 31,
   "id": "e89d39e5",
   "metadata": {},
   "outputs": [
    {
     "data": {
      "text/plain": [
       "3"
      ]
     },
     "execution_count": 31,
     "metadata": {},
     "output_type": "execute_result"
    }
   ],
   "source": [
    "int(pi)"
   ]
  },
  {
   "cell_type": "code",
   "execution_count": 32,
   "id": "4df2f124",
   "metadata": {},
   "outputs": [
    {
     "data": {
      "text/plain": [
       "1.0"
      ]
     },
     "execution_count": 32,
     "metadata": {},
     "output_type": "execute_result"
    }
   ],
   "source": [
    "float(a)"
   ]
  },
  {
   "cell_type": "markdown",
   "id": "56b95e6f",
   "metadata": {},
   "source": [
    "bool is a subtype of int"
   ]
  },
  {
   "cell_type": "code",
   "execution_count": 26,
   "id": "762f57b4",
   "metadata": {},
   "outputs": [],
   "source": [
    "b1 : bool = True"
   ]
  },
  {
   "cell_type": "code",
   "execution_count": 27,
   "id": "20a3e0c2",
   "metadata": {},
   "outputs": [],
   "source": [
    "b2 : bool = False"
   ]
  },
  {
   "cell_type": "markdown",
   "id": "444ace87",
   "metadata": {},
   "source": [
    "Boolean operator and, or, not"
   ]
  },
  {
   "cell_type": "code",
   "execution_count": 28,
   "id": "8b64b74f",
   "metadata": {},
   "outputs": [
    {
     "data": {
      "text/plain": [
       "False"
      ]
     },
     "execution_count": 28,
     "metadata": {},
     "output_type": "execute_result"
    }
   ],
   "source": [
    "b1 and b2"
   ]
  },
  {
   "cell_type": "code",
   "execution_count": 29,
   "id": "9820db30",
   "metadata": {},
   "outputs": [
    {
     "data": {
      "text/plain": [
       "True"
      ]
     },
     "execution_count": 29,
     "metadata": {},
     "output_type": "execute_result"
    }
   ],
   "source": [
    "b1 or b2"
   ]
  },
  {
   "cell_type": "code",
   "execution_count": 30,
   "id": "331fbb6b",
   "metadata": {},
   "outputs": [
    {
     "data": {
      "text/plain": [
       "False"
      ]
     },
     "execution_count": 30,
     "metadata": {},
     "output_type": "execute_result"
    }
   ],
   "source": [
    "not b1"
   ]
  },
  {
   "cell_type": "markdown",
   "id": "8c6258e6",
   "metadata": {},
   "source": [
    "Comparison Operators"
   ]
  },
  {
   "cell_type": "markdown",
   "id": "06730d35",
   "metadata": {},
   "source": [
    "They all have the same priority (which is higher than that of Boolean operations, but lower than that of arithmetic or bitwise operations)."
   ]
  },
  {
   "cell_type": "code",
   "execution_count": 111,
   "id": "77eeb44f",
   "metadata": {},
   "outputs": [
    {
     "data": {
      "text/plain": [
       "False"
      ]
     },
     "execution_count": 111,
     "metadata": {},
     "output_type": "execute_result"
    }
   ],
   "source": [
    "1 > 2"
   ]
  },
  {
   "cell_type": "code",
   "execution_count": 112,
   "id": "8c77dd23",
   "metadata": {},
   "outputs": [
    {
     "data": {
      "text/plain": [
       "True"
      ]
     },
     "execution_count": 112,
     "metadata": {},
     "output_type": "execute_result"
    }
   ],
   "source": [
    "1 < 2"
   ]
  },
  {
   "cell_type": "code",
   "execution_count": 113,
   "id": "b119bf80",
   "metadata": {},
   "outputs": [
    {
     "data": {
      "text/plain": [
       "True"
      ]
     },
     "execution_count": 113,
     "metadata": {},
     "output_type": "execute_result"
    }
   ],
   "source": [
    "1 == 1"
   ]
  },
  {
   "cell_type": "code",
   "execution_count": 114,
   "id": "32f65324",
   "metadata": {},
   "outputs": [
    {
     "data": {
      "text/plain": [
       "False"
      ]
     },
     "execution_count": 114,
     "metadata": {},
     "output_type": "execute_result"
    }
   ],
   "source": [
    "1 != 1"
   ]
  },
  {
   "cell_type": "code",
   "execution_count": 115,
   "id": "05a3cc44",
   "metadata": {},
   "outputs": [
    {
     "data": {
      "text/plain": [
       "False"
      ]
     },
     "execution_count": 115,
     "metadata": {},
     "output_type": "execute_result"
    }
   ],
   "source": [
    "1 >= 2"
   ]
  },
  {
   "cell_type": "code",
   "execution_count": 116,
   "id": "b9d1c58e",
   "metadata": {},
   "outputs": [
    {
     "data": {
      "text/plain": [
       "False"
      ]
     },
     "execution_count": 116,
     "metadata": {},
     "output_type": "execute_result"
    }
   ],
   "source": [
    "2 <= 1"
   ]
  },
  {
   "cell_type": "code",
   "execution_count": 118,
   "id": "ce2ccc6a",
   "metadata": {},
   "outputs": [
    {
     "data": {
      "text/plain": [
       "True"
      ]
     },
     "execution_count": 118,
     "metadata": {},
     "output_type": "execute_result"
    }
   ],
   "source": [
    "type(1) is int"
   ]
  },
  {
   "cell_type": "code",
   "execution_count": 119,
   "id": "903ac8ea",
   "metadata": {},
   "outputs": [
    {
     "data": {
      "text/plain": [
       "True"
      ]
     },
     "execution_count": 119,
     "metadata": {},
     "output_type": "execute_result"
    }
   ],
   "source": [
    "type(1) is not str"
   ]
  },
  {
   "cell_type": "code",
   "execution_count": 120,
   "id": "f59498a1",
   "metadata": {},
   "outputs": [
    {
     "data": {
      "text/plain": [
       "True"
      ]
     },
     "execution_count": 120,
     "metadata": {},
     "output_type": "execute_result"
    }
   ],
   "source": [
    "1 in [1, 2, 3]"
   ]
  },
  {
   "cell_type": "code",
   "execution_count": 121,
   "id": "021ef2fa",
   "metadata": {},
   "outputs": [
    {
     "data": {
      "text/plain": [
       "False"
      ]
     },
     "execution_count": 121,
     "metadata": {},
     "output_type": "execute_result"
    }
   ],
   "source": [
    "1 not in [1, 2, 3]"
   ]
  },
  {
   "cell_type": "markdown",
   "id": "7f9e6e30",
   "metadata": {},
   "source": [
    "Control Flow"
   ]
  },
  {
   "cell_type": "code",
   "execution_count": 49,
   "id": "4404ecb6",
   "metadata": {},
   "outputs": [],
   "source": [
    "num : int = 5"
   ]
  },
  {
   "cell_type": "code",
   "execution_count": 50,
   "id": "bb5c8e04",
   "metadata": {},
   "outputs": [
    {
     "name": "stdout",
     "output_type": "stream",
     "text": [
      "Odd\n"
     ]
    }
   ],
   "source": [
    "if num % 2 == 0:\n",
    "    print(\"Even\")\n",
    "\n",
    "else:\n",
    "    print(\"Odd\")"
   ]
  },
  {
   "cell_type": "markdown",
   "id": "6117212a",
   "metadata": {},
   "source": [
    "Python versions 3.9 and below don't have a feature like switch statement. Python versions 3.9 and above have something called \"structural pattern matching\". They are implemented using the macth statement"
   ]
  },
  {
   "cell_type": "code",
   "execution_count": 51,
   "id": "4900b86f",
   "metadata": {},
   "outputs": [
    {
     "data": {
      "text/plain": [
       "str"
      ]
     },
     "execution_count": 51,
     "metadata": {},
     "output_type": "execute_result"
    }
   ],
   "source": [
    "type(\"Hello, World\")"
   ]
  },
  {
   "cell_type": "markdown",
   "id": "43adb394",
   "metadata": {},
   "source": [
    "Strings : a collection of immutable unicode points"
   ]
  },
  {
   "cell_type": "code",
   "execution_count": 52,
   "id": "4e28c4d2",
   "metadata": {},
   "outputs": [],
   "source": [
    "name : str = \"Anirudh\""
   ]
  },
  {
   "cell_type": "markdown",
   "id": "c02b9e38",
   "metadata": {},
   "source": [
    "Both '' and \"\" can be used to declare strings"
   ]
  },
  {
   "cell_type": "code",
   "execution_count": 56,
   "id": "50272b9f",
   "metadata": {},
   "outputs": [],
   "source": [
    "greeting : str = 'Hello, '"
   ]
  },
  {
   "cell_type": "markdown",
   "id": "aa3c5418",
   "metadata": {},
   "source": [
    "Operations which appear to change the string usually return a new strings with required changes"
   ]
  },
  {
   "cell_type": "code",
   "execution_count": 57,
   "id": "4d652463",
   "metadata": {},
   "outputs": [
    {
     "name": "stdout",
     "output_type": "stream",
     "text": [
      "Hello, Anirudh\n"
     ]
    }
   ],
   "source": [
    "greeting += name\n",
    "print(greeting)"
   ]
  },
  {
   "cell_type": "markdown",
   "id": "57bd8933",
   "metadata": {},
   "source": [
    "If you want  to use \" or  ' as part of a string you have to escape character \"\\\" before them to not confuse the python interpreter"
   ]
  },
  {
   "cell_type": "code",
   "execution_count": 60,
   "id": "94b76558",
   "metadata": {},
   "outputs": [
    {
     "name": "stdout",
     "output_type": "stream",
     "text": [
      "Hello this is an \"AI\" \n"
     ]
    }
   ],
   "source": [
    "print(\"Hello this is an \\\"AI\\\" \")"
   ]
  },
  {
   "cell_type": "markdown",
   "id": "4f42f3c4",
   "metadata": {},
   "source": [
    "Other escape sequences \n",
    "(1) \\n - newline\n",
    "(2) \\t - tabspace\n",
    "(3) \\\\ - to print \\"
   ]
  },
  {
   "cell_type": "code",
   "execution_count": 64,
   "id": "2d1a681b",
   "metadata": {},
   "outputs": [
    {
     "name": "stdout",
     "output_type": "stream",
     "text": [
      "Hello this is human \n",
      " But this maybe an \t AI \\\n"
     ]
    }
   ],
   "source": [
    "print(\"Hello this is human \\n But this maybe an \\t AI \\\\\")"
   ]
  },
  {
   "cell_type": "code",
   "execution_count": 65,
   "id": "176b3e23",
   "metadata": {},
   "outputs": [
    {
     "name": "stdout",
     "output_type": "stream",
     "text": [
      "\n",
      "Multi\n",
      "line\n",
      "string\n",
      "\n",
      "\n"
     ]
    }
   ],
   "source": [
    "print('''\n",
    "Multi\n",
    "line\n",
    "string\n",
    "\n",
    "''')"
   ]
  },
  {
   "cell_type": "code",
   "execution_count": 66,
   "id": "f660fe31",
   "metadata": {},
   "outputs": [
    {
     "name": "stdout",
     "output_type": "stream",
     "text": [
      "\n",
      "Multi \n",
      "Line \n",
      "Stirng\n",
      "\n"
     ]
    }
   ],
   "source": [
    "print(\"\"\"\n",
    "Multi \n",
    "Line \n",
    "Stirng\n",
    "\"\"\")"
   ]
  },
  {
   "cell_type": "markdown",
   "id": "dfabc0df",
   "metadata": {},
   "source": [
    "String concatenation (combining two strings). It is not efficient ???"
   ]
  },
  {
   "cell_type": "code",
   "execution_count": 67,
   "id": "e8e02e84",
   "metadata": {},
   "outputs": [
    {
     "data": {
      "text/plain": [
       "'Hello World'"
      ]
     },
     "execution_count": 67,
     "metadata": {},
     "output_type": "execute_result"
    }
   ],
   "source": [
    "\"Hello\" + \" World\""
   ]
  },
  {
   "cell_type": "markdown",
   "id": "089d3fff",
   "metadata": {},
   "source": [
    "Combining elements of a any iterable to a string"
   ]
  },
  {
   "cell_type": "code",
   "execution_count": 68,
   "id": "11490d24",
   "metadata": {},
   "outputs": [],
   "source": [
    "lst = [\"Hello\", \"World\", \"Earth\"]"
   ]
  },
  {
   "cell_type": "code",
   "execution_count": 69,
   "id": "68d4649c",
   "metadata": {},
   "outputs": [
    {
     "data": {
      "text/plain": [
       "'HelloWorldEarth'"
      ]
     },
     "execution_count": 69,
     "metadata": {},
     "output_type": "execute_result"
    }
   ],
   "source": [
    "\"\".join(lst)"
   ]
  },
  {
   "cell_type": "markdown",
   "id": "27240bea",
   "metadata": {},
   "source": [
    "You can describe the seperator element in the \"\""
   ]
  },
  {
   "cell_type": "code",
   "execution_count": 70,
   "id": "1eaa7a6d",
   "metadata": {},
   "outputs": [
    {
     "data": {
      "text/plain": [
       "'Hello ; World ; Earth'"
      ]
     },
     "execution_count": 70,
     "metadata": {},
     "output_type": "execute_result"
    }
   ],
   "source": [
    "\" ; \".join(lst)"
   ]
  },
  {
   "cell_type": "markdown",
   "id": "de595fe0",
   "metadata": {},
   "source": [
    "Strings can be indexed just like lists"
   ]
  },
  {
   "cell_type": "code",
   "execution_count": 71,
   "id": "47a4ae4e",
   "metadata": {},
   "outputs": [],
   "source": [
    "a = \"Hello\""
   ]
  },
  {
   "cell_type": "code",
   "execution_count": 72,
   "id": "d69ef8f6",
   "metadata": {},
   "outputs": [
    {
     "data": {
      "text/plain": [
       "'H'"
      ]
     },
     "execution_count": 72,
     "metadata": {},
     "output_type": "execute_result"
    }
   ],
   "source": [
    "a[0]"
   ]
  },
  {
   "cell_type": "code",
   "execution_count": 73,
   "id": "f2c716ea",
   "metadata": {},
   "outputs": [
    {
     "data": {
      "text/plain": [
       "'o'"
      ]
     },
     "execution_count": 73,
     "metadata": {},
     "output_type": "execute_result"
    }
   ],
   "source": [
    "a[-1]"
   ]
  },
  {
   "cell_type": "code",
   "execution_count": 74,
   "id": "e863f358",
   "metadata": {},
   "outputs": [
    {
     "data": {
      "text/plain": [
       "'l'"
      ]
     },
     "execution_count": 74,
     "metadata": {},
     "output_type": "execute_result"
    }
   ],
   "source": [
    "a[2]"
   ]
  },
  {
   "cell_type": "markdown",
   "id": "07e0f6c9",
   "metadata": {},
   "source": [
    "There is no seperate character or rune type in python. Indexing produces a string"
   ]
  },
  {
   "cell_type": "code",
   "execution_count": 75,
   "id": "b7ef516b",
   "metadata": {},
   "outputs": [
    {
     "data": {
      "text/plain": [
       "str"
      ]
     },
     "execution_count": 75,
     "metadata": {},
     "output_type": "execute_result"
    }
   ],
   "source": [
    "type(a[0])"
   ]
  },
  {
   "cell_type": "markdown",
   "id": "723eff00",
   "metadata": {},
   "source": [
    "String slicing"
   ]
  },
  {
   "cell_type": "code",
   "execution_count": null,
   "id": "9e10a7ae",
   "metadata": {},
   "outputs": [
    {
     "data": {
      "text/plain": [
       "'Hello'"
      ]
     },
     "execution_count": 76,
     "metadata": {},
     "output_type": "execute_result"
    }
   ],
   "source": [
    "a[:]#all the string"
   ]
  },
  {
   "cell_type": "code",
   "execution_count": 81,
   "id": "00caa278",
   "metadata": {},
   "outputs": [
    {
     "data": {
      "text/plain": [
       "'Hel'"
      ]
     },
     "execution_count": 81,
     "metadata": {},
     "output_type": "execute_result"
    }
   ],
   "source": [
    "a[:3]#from the start till the 3rd character(3rd character is not included)"
   ]
  },
  {
   "cell_type": "code",
   "execution_count": 83,
   "id": "41c18a2a",
   "metadata": {},
   "outputs": [
    {
     "data": {
      "text/plain": [
       "'llo'"
      ]
     },
     "execution_count": 83,
     "metadata": {},
     "output_type": "execute_result"
    }
   ],
   "source": [
    "a[2:]#from the second character till the end(second charcater is included)"
   ]
  },
  {
   "cell_type": "markdown",
   "id": "8851e811",
   "metadata": {},
   "source": [
    "[2, 4)"
   ]
  },
  {
   "cell_type": "code",
   "execution_count": 80,
   "id": "f82e84f3",
   "metadata": {},
   "outputs": [
    {
     "data": {
      "text/plain": [
       "'ll'"
      ]
     },
     "execution_count": 80,
     "metadata": {},
     "output_type": "execute_result"
    }
   ],
   "source": [
    "a[2:4]"
   ]
  },
  {
   "cell_type": "markdown",
   "id": "8e4d592a",
   "metadata": {},
   "source": [
    "The third element is the step. It tells how many characters to skip after using the current character"
   ]
  },
  {
   "cell_type": "code",
   "execution_count": 85,
   "id": "87a84260",
   "metadata": {},
   "outputs": [
    {
     "data": {
      "text/plain": [
       "'Hlo'"
      ]
     },
     "execution_count": 85,
     "metadata": {},
     "output_type": "execute_result"
    }
   ],
   "source": [
    "a[::2]"
   ]
  },
  {
   "cell_type": "markdown",
   "id": "7da44223",
   "metadata": {},
   "source": [
    "The step element can be used to reverse the string"
   ]
  },
  {
   "cell_type": "code",
   "execution_count": 86,
   "id": "f3bde1cd",
   "metadata": {},
   "outputs": [
    {
     "data": {
      "text/plain": [
       "'olleH'"
      ]
     },
     "execution_count": 86,
     "metadata": {},
     "output_type": "execute_result"
    }
   ],
   "source": [
    "a[::-1]"
   ]
  },
  {
   "cell_type": "markdown",
   "id": "41bfe071",
   "metadata": {},
   "source": [
    "To split the string based on a delimeter"
   ]
  },
  {
   "cell_type": "code",
   "execution_count": 87,
   "id": "673898fe",
   "metadata": {},
   "outputs": [],
   "source": [
    "a = \"Hello, World\""
   ]
  },
  {
   "cell_type": "markdown",
   "id": "8c321f93",
   "metadata": {},
   "source": [
    "string.split() returns a list of strings"
   ]
  },
  {
   "cell_type": "code",
   "execution_count": 88,
   "id": "e5f152f3",
   "metadata": {},
   "outputs": [
    {
     "data": {
      "text/plain": [
       "['Hello', ' World']"
      ]
     },
     "execution_count": 88,
     "metadata": {},
     "output_type": "execute_result"
    }
   ],
   "source": [
    "a.split(\",\")"
   ]
  },
  {
   "cell_type": "code",
   "execution_count": 90,
   "id": "d19693f9",
   "metadata": {},
   "outputs": [
    {
     "data": {
      "text/plain": [
       "['Hello,', 'World']"
      ]
     },
     "execution_count": 90,
     "metadata": {},
     "output_type": "execute_result"
    }
   ],
   "source": [
    "a.split()#by default the split is done over a space"
   ]
  },
  {
   "cell_type": "markdown",
   "id": "d547d3c8",
   "metadata": {},
   "source": [
    "Strings support all common sequence operations.(https://docs.python.org/3/library/stdtypes.html#common-sequence-operations)"
   ]
  },
  {
   "cell_type": "markdown",
   "id": "2829b60d",
   "metadata": {},
   "source": [
    "That means we can iterate over a string using the for loop"
   ]
  },
  {
   "cell_type": "markdown",
   "id": "dc457cff",
   "metadata": {},
   "source": [
    "looping for non english characters ????"
   ]
  },
  {
   "cell_type": "code",
   "execution_count": 92,
   "id": "08c3a367",
   "metadata": {},
   "outputs": [
    {
     "name": "stdout",
     "output_type": "stream",
     "text": [
      "H e l l o ,   W o r l d "
     ]
    }
   ],
   "source": [
    "for i in a:\n",
    "    print(i, end=\" \")#by default print(i, end=\"\\n\")"
   ]
  },
  {
   "cell_type": "markdown",
   "id": "d61518c3",
   "metadata": {},
   "source": [
    "To access the element's position and the element"
   ]
  },
  {
   "cell_type": "code",
   "execution_count": 93,
   "id": "da80d87a",
   "metadata": {},
   "outputs": [
    {
     "name": "stdout",
     "output_type": "stream",
     "text": [
      "0 H\n",
      "1 e\n",
      "2 l\n",
      "3 l\n",
      "4 o\n",
      "5 ,\n",
      "6  \n",
      "7 W\n",
      "8 o\n",
      "9 r\n",
      "10 l\n",
      "11 d\n"
     ]
    }
   ],
   "source": [
    "for index, char in enumerate(a):\n",
    "    print(index, char)"
   ]
  },
  {
   "cell_type": "code",
   "execution_count": 1,
   "id": "949af116",
   "metadata": {},
   "outputs": [],
   "source": [
    "a = \"hello, world!\""
   ]
  },
  {
   "cell_type": "code",
   "execution_count": null,
   "id": "36b7bdec",
   "metadata": {},
   "outputs": [
    {
     "data": {
      "text/plain": [
       "'Hello, World!'"
      ]
     },
     "execution_count": 2,
     "metadata": {},
     "output_type": "execute_result"
    }
   ],
   "source": [
    "a.title()#capitalizes the starting letters of words in the string"
   ]
  },
  {
   "cell_type": "code",
   "execution_count": null,
   "id": "fa619781",
   "metadata": {},
   "outputs": [
    {
     "data": {
      "text/plain": [
       "'HELLO, WORLD!'"
      ]
     },
     "execution_count": 4,
     "metadata": {},
     "output_type": "execute_result"
    }
   ],
   "source": [
    "a.upper()#converts all letters to upper case"
   ]
  },
  {
   "cell_type": "code",
   "execution_count": null,
   "id": "83352b64",
   "metadata": {},
   "outputs": [
    {
     "data": {
      "text/plain": [
       "'hello, world!'"
      ]
     },
     "execution_count": 6,
     "metadata": {},
     "output_type": "execute_result"
    }
   ],
   "source": [
    "a.lower()#converts all letters to lower case"
   ]
  },
  {
   "cell_type": "markdown",
   "id": "d6cf382b",
   "metadata": {},
   "source": [
    "To check is a string has a suffix"
   ]
  },
  {
   "cell_type": "code",
   "execution_count": null,
   "id": "756a1616",
   "metadata": {},
   "outputs": [
    {
     "data": {
      "text/plain": [
       "False"
      ]
     },
     "execution_count": 7,
     "metadata": {},
     "output_type": "execute_result"
    }
   ],
   "source": [
    "a.endswith('orld')"
   ]
  },
  {
   "cell_type": "code",
   "execution_count": 8,
   "id": "61a4fb4c",
   "metadata": {},
   "outputs": [
    {
     "data": {
      "text/plain": [
       "True"
      ]
     },
     "execution_count": 8,
     "metadata": {},
     "output_type": "execute_result"
    }
   ],
   "source": [
    "a.endswith('orld!')"
   ]
  },
  {
   "cell_type": "code",
   "execution_count": 9,
   "id": "044d5e1f",
   "metadata": {},
   "outputs": [],
   "source": [
    "a = \"   hello, world   \""
   ]
  },
  {
   "cell_type": "code",
   "execution_count": 10,
   "id": "9b794710",
   "metadata": {},
   "outputs": [
    {
     "data": {
      "text/plain": [
       "'hello, world'"
      ]
     },
     "execution_count": 10,
     "metadata": {},
     "output_type": "execute_result"
    }
   ],
   "source": [
    "a.strip()#removes spaces from the start and the end"
   ]
  },
  {
   "cell_type": "code",
   "execution_count": 12,
   "id": "df8fb75e",
   "metadata": {},
   "outputs": [
    {
     "data": {
      "text/plain": [
       "'   hello, world'"
      ]
     },
     "execution_count": 12,
     "metadata": {},
     "output_type": "execute_result"
    }
   ],
   "source": [
    "a.rstrip()#removes spaces only on the right side"
   ]
  },
  {
   "cell_type": "code",
   "execution_count": 13,
   "id": "d9cdb574",
   "metadata": {},
   "outputs": [
    {
     "data": {
      "text/plain": [
       "'hello, world   '"
      ]
     },
     "execution_count": 13,
     "metadata": {},
     "output_type": "execute_result"
    }
   ],
   "source": [
    "a.lstrip()#removes spaces only on the left side"
   ]
  },
  {
   "cell_type": "markdown",
   "id": "6f6cec10",
   "metadata": {},
   "source": [
    "string.strip(str)????"
   ]
  },
  {
   "cell_type": "code",
   "execution_count": 14,
   "id": "8f299fa0",
   "metadata": {},
   "outputs": [
    {
     "data": {
      "text/plain": [
       "'   hello, universe   '"
      ]
     },
     "execution_count": 14,
     "metadata": {},
     "output_type": "execute_result"
    }
   ],
   "source": [
    "a.replace(\"world\", \"universe\")"
   ]
  },
  {
   "cell_type": "markdown",
   "id": "d45d1370",
   "metadata": {},
   "source": [
    "Lists = a dynamic size and mutable linear data structure"
   ]
  },
  {
   "cell_type": "code",
   "execution_count": 15,
   "id": "db1d7f37",
   "metadata": {},
   "outputs": [],
   "source": [
    "lst = [1, 'a', True]"
   ]
  },
  {
   "cell_type": "code",
   "execution_count": 16,
   "id": "8598d1c6",
   "metadata": {},
   "outputs": [
    {
     "data": {
      "text/plain": [
       "1"
      ]
     },
     "execution_count": 16,
     "metadata": {},
     "output_type": "execute_result"
    }
   ],
   "source": [
    "lst[0]"
   ]
  },
  {
   "cell_type": "code",
   "execution_count": 17,
   "id": "68bd5266",
   "metadata": {},
   "outputs": [
    {
     "data": {
      "text/plain": [
       "True"
      ]
     },
     "execution_count": 17,
     "metadata": {},
     "output_type": "execute_result"
    }
   ],
   "source": [
    "lst[-1]"
   ]
  },
  {
   "cell_type": "code",
   "execution_count": 20,
   "id": "ccb8a937",
   "metadata": {},
   "outputs": [
    {
     "data": {
      "text/plain": [
       "[True]"
      ]
     },
     "execution_count": 20,
     "metadata": {},
     "output_type": "execute_result"
    }
   ],
   "source": [
    "lst[:1]"
   ]
  },
  {
   "cell_type": "code",
   "execution_count": 21,
   "id": "09cd9508",
   "metadata": {},
   "outputs": [
    {
     "data": {
      "text/plain": [
       "['a', 1]"
      ]
     },
     "execution_count": 21,
     "metadata": {},
     "output_type": "execute_result"
    }
   ],
   "source": [
    "lst[1:]"
   ]
  },
  {
   "cell_type": "code",
   "execution_count": 22,
   "id": "200539e6",
   "metadata": {},
   "outputs": [
    {
     "data": {
      "text/plain": [
       "[True, 'a', 1]"
      ]
     },
     "execution_count": 22,
     "metadata": {},
     "output_type": "execute_result"
    }
   ],
   "source": [
    "lst[:]"
   ]
  },
  {
   "cell_type": "code",
   "execution_count": 23,
   "id": "be071d75",
   "metadata": {},
   "outputs": [
    {
     "data": {
      "text/plain": [
       "[1, 'a', True]"
      ]
     },
     "execution_count": 23,
     "metadata": {},
     "output_type": "execute_result"
    }
   ],
   "source": [
    "lst[::-1]"
   ]
  },
  {
   "cell_type": "code",
   "execution_count": 25,
   "id": "240cccf2",
   "metadata": {},
   "outputs": [
    {
     "data": {
      "text/plain": [
       "[True]"
      ]
     },
     "execution_count": 25,
     "metadata": {},
     "output_type": "execute_result"
    }
   ],
   "source": [
    "lst[:2:2]"
   ]
  },
  {
   "cell_type": "code",
   "execution_count": null,
   "id": "07e93384",
   "metadata": {},
   "outputs": [],
   "source": [
    "lst.reverse()# reverses the list in place"
   ]
  },
  {
   "cell_type": "code",
   "execution_count": 27,
   "id": "b190c3f5",
   "metadata": {},
   "outputs": [],
   "source": [
    "lst1 = [3, 2, 1]"
   ]
  },
  {
   "cell_type": "code",
   "execution_count": 29,
   "id": "09102b97",
   "metadata": {},
   "outputs": [],
   "source": [
    "lst1.sort()#can be used only on homogeneous lists(lists with all elements of same type)"
   ]
  },
  {
   "cell_type": "code",
   "execution_count": 30,
   "id": "9ead8301",
   "metadata": {},
   "outputs": [
    {
     "data": {
      "text/plain": [
       "[1, 2, 3]"
      ]
     },
     "execution_count": 30,
     "metadata": {},
     "output_type": "execute_result"
    }
   ],
   "source": [
    "lst1"
   ]
  },
  {
   "cell_type": "markdown",
   "id": "c61f1e8a",
   "metadata": {},
   "source": [
    "List Declarations"
   ]
  },
  {
   "cell_type": "code",
   "execution_count": 31,
   "id": "e4549562",
   "metadata": {},
   "outputs": [],
   "source": [
    "lst2 = []"
   ]
  },
  {
   "cell_type": "code",
   "execution_count": null,
   "id": "c1faa6e0",
   "metadata": {},
   "outputs": [],
   "source": [
    "lst3 = list()"
   ]
  },
  {
   "cell_type": "code",
   "execution_count": 37,
   "id": "0a419900",
   "metadata": {},
   "outputs": [],
   "source": [
    "lst2.append(4)#adds the element to the end of the list"
   ]
  },
  {
   "cell_type": "code",
   "execution_count": 40,
   "id": "b52fe08f",
   "metadata": {},
   "outputs": [],
   "source": [
    "lst2.insert(0, 0)#insert(poisition, element)"
   ]
  },
  {
   "cell_type": "code",
   "execution_count": 41,
   "id": "69383718",
   "metadata": {},
   "outputs": [
    {
     "data": {
      "text/plain": [
       "[0, 0, 4, 4]"
      ]
     },
     "execution_count": 41,
     "metadata": {},
     "output_type": "execute_result"
    }
   ],
   "source": [
    "lst2"
   ]
  },
  {
   "cell_type": "code",
   "execution_count": 42,
   "id": "37144763",
   "metadata": {},
   "outputs": [
    {
     "data": {
      "text/plain": [
       "4"
      ]
     },
     "execution_count": 42,
     "metadata": {},
     "output_type": "execute_result"
    }
   ],
   "source": [
    "lst2.pop()#removes the last element and returns it"
   ]
  },
  {
   "cell_type": "code",
   "execution_count": 43,
   "id": "e0b8f1bd",
   "metadata": {},
   "outputs": [
    {
     "data": {
      "text/plain": [
       "4"
      ]
     },
     "execution_count": 43,
     "metadata": {},
     "output_type": "execute_result"
    }
   ],
   "source": [
    "lst2.pop(2)#removes the 2nd element and returns it"
   ]
  },
  {
   "cell_type": "code",
   "execution_count": 44,
   "id": "0adec4af",
   "metadata": {},
   "outputs": [
    {
     "data": {
      "text/plain": [
       "[0, 0]"
      ]
     },
     "execution_count": 44,
     "metadata": {},
     "output_type": "execute_result"
    }
   ],
   "source": [
    "lst2"
   ]
  },
  {
   "cell_type": "code",
   "execution_count": null,
   "id": "238e1628",
   "metadata": {},
   "outputs": [],
   "source": []
  }
 ],
 "metadata": {
  "kernelspec": {
   "display_name": ".venv",
   "language": "python",
   "name": "python3"
  },
  "language_info": {
   "codemirror_mode": {
    "name": "ipython",
    "version": 3
   },
   "file_extension": ".py",
   "mimetype": "text/x-python",
   "name": "python",
   "nbconvert_exporter": "python",
   "pygments_lexer": "ipython3",
   "version": "3.12.3"
  }
 },
 "nbformat": 4,
 "nbformat_minor": 5
}
